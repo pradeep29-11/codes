{
 "cells": [
  {
   "cell_type": "code",
   "execution_count": 21,
   "id": "491b34b0-8d3b-400b-ac43-02cc0a396085",
   "metadata": {},
   "outputs": [
    {
     "name": "stdout",
     "output_type": "stream",
     "text": [
      "29-11-2004\n"
     ]
    }
   ],
   "source": [
    "l=[\"29\",\"11\",\"2004\"]\n",
    "s=\"-\".join(l)\n",
    "print(s)"
   ]
  },
  {
   "cell_type": "code",
   "execution_count": 16,
   "id": "1b9df71f-0206-4cb0-bf75-40672c444376",
   "metadata": {},
   "outputs": [
    {
     "name": "stdout",
     "output_type": "stream",
     "text": [
      "['t c a']\n"
     ]
    }
   ],
   "source": [
    "l=\"t c a\"\n",
    "s=l.split(\",\")\n",
    "print(s)"
   ]
  },
  {
   "cell_type": "code",
   "execution_count": 22,
   "id": "6dab4875-5c80-4eb6-891d-e1f11b05b3c8",
   "metadata": {},
   "outputs": [
    {
     "name": "stdout",
     "output_type": "stream",
     "text": [
      "['t', 'c', 'a']\n"
     ]
    }
   ],
   "source": [
    "l=\"t c a\"\n",
    "s=l.split()\n",
    "print(s)"
   ]
  },
  {
   "cell_type": "code",
   "execution_count": 24,
   "id": "d920d885-4837-4a78-bc99-a4b7382bd298",
   "metadata": {},
   "outputs": [
    {
     "name": "stdout",
     "output_type": "stream",
     "text": [
      "I love India\n"
     ]
    }
   ],
   "source": [
    "a=\"I love Python\"\n",
    "s=a.replace(\"Python\",\"India\")\n",
    "print(s)"
   ]
  },
  {
   "cell_type": "code",
   "execution_count": 17,
   "id": "b2e8cc66-2a98-4617-aa59-0c5d940050aa",
   "metadata": {},
   "outputs": [
    {
     "name": "stdout",
     "output_type": "stream",
     "text": [
      "['t', 'c', 'a']\n"
     ]
    }
   ],
   "source": [
    "s=\"Tecno Comp Academy\""
   ]
  },
  {
   "cell_type": "code",
   "execution_count": null,
   "id": "9e4c0a17-11eb-451d-9826-cfec4564ee2b",
   "metadata": {},
   "outputs": [],
   "source": []
  },
  {
   "cell_type": "code",
   "execution_count": null,
   "id": "215411dd-93af-4b1c-9627-819bdd4534a7",
   "metadata": {},
   "outputs": [],
   "source": []
  },
  {
   "cell_type": "code",
   "execution_count": null,
   "id": "5e2b1a52-f979-4881-9d08-e76047c23dc8",
   "metadata": {},
   "outputs": [],
   "source": []
  },
  {
   "cell_type": "code",
   "execution_count": null,
   "id": "cf4d0bee-6635-4467-9b5f-343bdd9ced9b",
   "metadata": {},
   "outputs": [],
   "source": []
  },
  {
   "cell_type": "code",
   "execution_count": null,
   "id": "2f99e1a8-3caa-48f0-9865-e1d0c8f49f54",
   "metadata": {},
   "outputs": [],
   "source": []
  }
 ],
 "metadata": {
  "kernelspec": {
   "display_name": "Python 3 (ipykernel)",
   "language": "python",
   "name": "python3"
  },
  "language_info": {
   "codemirror_mode": {
    "name": "ipython",
    "version": 3
   },
   "file_extension": ".py",
   "mimetype": "text/x-python",
   "name": "python",
   "nbconvert_exporter": "python",
   "pygments_lexer": "ipython3",
   "version": "3.12.4"
  }
 },
 "nbformat": 4,
 "nbformat_minor": 5
}
