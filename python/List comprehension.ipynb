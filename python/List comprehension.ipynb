{
 "cells": [
  {
   "cell_type": "code",
   "execution_count": 1,
   "id": "b471d6cb-ee6c-4ada-9b92-7923a394b4c3",
   "metadata": {},
   "outputs": [
    {
     "name": "stdout",
     "output_type": "stream",
     "text": [
      "[0, 1, 2, 3, 4]\n"
     ]
    }
   ],
   "source": [
    "l=[i for i in range(5)]\n",
    "print(l)"
   ]
  },
  {
   "cell_type": "code",
   "execution_count": 2,
   "id": "0e64e870-4f4e-405a-908d-10a8417379aa",
   "metadata": {},
   "outputs": [
    {
     "name": "stdout",
     "output_type": "stream",
     "text": [
      "[0, 1, 4, 9, 16]\n"
     ]
    }
   ],
   "source": [
    "l=[i*i for i in range(5)]\n",
    "print(l)"
   ]
  },
  {
   "cell_type": "code",
   "execution_count": 3,
   "id": "8ded6d62-7a48-468e-991f-96d77db4b9ec",
   "metadata": {},
   "outputs": [
    {
     "name": "stdout",
     "output_type": "stream",
     "text": [
      "[0, 1, 4, 9, 16]\n"
     ]
    }
   ],
   "source": [
    "print([i*i for i in range(5)])"
   ]
  },
  {
   "cell_type": "code",
   "execution_count": 5,
   "id": "5bad3037-089e-403d-ab53-125a38e54cf7",
   "metadata": {},
   "outputs": [
    {
     "name": "stdin",
     "output_type": "stream",
     "text": [
      "Enter the list :  [11,22,33]\n"
     ]
    },
    {
     "name": "stdout",
     "output_type": "stream",
     "text": [
      "[11, 22, 33]\n"
     ]
    }
   ],
   "source": [
    "l=eval(input(\"Enter the list : \"))\n",
    "print([i for i in l])"
   ]
  },
  {
   "cell_type": "code",
   "execution_count": 6,
   "id": "9b5bc32f-3937-42a5-ad7f-4bf1e072a1ef",
   "metadata": {},
   "outputs": [
    {
     "name": "stdout",
     "output_type": "stream",
     "text": [
      "[121, 144, 169, 196, 225]\n"
     ]
    }
   ],
   "source": [
    "lst=[11,12,13,14,15]\n",
    "lst1=[]\n",
    "for i in lst:\n",
    "    lst1.append(i*i)\n",
    "print(lst1)\n"
   ]
  },
  {
   "cell_type": "code",
   "execution_count": 7,
   "id": "bfcbfd23-ef16-4148-b68f-ae864426bf10",
   "metadata": {},
   "outputs": [
    {
     "name": "stdout",
     "output_type": "stream",
     "text": [
      "[121, 144, 169, 196, 225]\n"
     ]
    }
   ],
   "source": [
    "print([i*i for i in [11,12,13,14,15]])"
   ]
  },
  {
   "cell_type": "code",
   "execution_count": 15,
   "id": "23731ab2-3c03-4534-88ec-7f6c66d1052f",
   "metadata": {},
   "outputs": [
    {
     "name": "stdout",
     "output_type": "stream",
     "text": [
      "[11, 22, 33]\n"
     ]
    }
   ],
   "source": [
    "lst=[11,22,33,121, 144, 169, 196, 225]\n",
    "print([data  for data in lst     if data<100])"
   ]
  },
  {
   "cell_type": "code",
   "execution_count": 18,
   "id": "ba227b53-3f70-4b63-9b27-ed129d8b0cae",
   "metadata": {},
   "outputs": [
    {
     "name": "stdout",
     "output_type": "stream",
     "text": [
      "[[11, 22], [33, 44], [55, 66], [77, 88]]\n"
     ]
    }
   ],
   "source": [
    "lst=[[11,22],[33,44],[55,66],[77,88]]\n",
    "print(lst)"
   ]
  },
  {
   "cell_type": "code",
   "execution_count": 19,
   "id": "61c25ee6-2cfb-42f2-85df-76184155fe1d",
   "metadata": {},
   "outputs": [
    {
     "name": "stdout",
     "output_type": "stream",
     "text": [
      "[11, 22, 33, 44, 55, 66, 77, 88]\n"
     ]
    }
   ],
   "source": [
    "lst=[[11,22],[33,44],[55,66],[77,88]]\n",
    "print([data for i in lst for data in i])"
   ]
  },
  {
   "cell_type": "code",
   "execution_count": 20,
   "id": "8309276b-a223-406b-bee1-297c42390c24",
   "metadata": {},
   "outputs": [
    {
     "name": "stdout",
     "output_type": "stream",
     "text": [
      "[121, 9801]\n"
     ]
    }
   ],
   "source": [
    "lst=[11,99,101,555]\n",
    "print([data*data for data in lst if data<100])"
   ]
  },
  {
   "cell_type": "code",
   "execution_count": 22,
   "id": "5f5f0ed7-3600-4ea7-970a-11c244d976ef",
   "metadata": {},
   "outputs": [
    {
     "name": "stdout",
     "output_type": "stream",
     "text": [
      "[[0, 1, 2, 3], [0, 1, 2, 3]]\n"
     ]
    }
   ],
   "source": [
    "lst=[[i for i in range(4)]for j in range(2)]\n",
    "print(lst)"
   ]
  },
  {
   "cell_type": "code",
   "execution_count": 25,
   "id": "b5cccbeb-f8c3-4ff5-b970-6cb0b0145e96",
   "metadata": {},
   "outputs": [
    {
     "name": "stdout",
     "output_type": "stream",
     "text": [
      "[[[0], [1], [2], [3]], [[0], [1], [2], [3]]]\n"
     ]
    }
   ],
   "source": [
    "print([[[i] for i in range(4)]for j in range(2)])"
   ]
  },
  {
   "cell_type": "code",
   "execution_count": 27,
   "id": "393b08d0-c4e2-4df0-9803-dd606ecddedf",
   "metadata": {},
   "outputs": [
    {
     "name": "stdout",
     "output_type": "stream",
     "text": [
      "[['A', 1], ['A', 2], ['B', 1], ['B', 2], ['C', 1], ['C', 2], ['D', 1], ['D', 2]]\n"
     ]
    }
   ],
   "source": [
    "l1=['A','B','C','D']\n",
    "l2=[1,2]\n",
    "print([[x,y] for x in l1 for y in l2])"
   ]
  },
  {
   "cell_type": "code",
   "execution_count": 28,
   "id": "01a0c4d6-6026-4c17-9c07-edc392254075",
   "metadata": {},
   "outputs": [
    {
     "name": "stdout",
     "output_type": "stream",
     "text": [
      "[1, 2, 3, 4, 5, 1, 2, 3, 4, 5]\n"
     ]
    }
   ],
   "source": [
    "l=[1,2,3,4,5]\n",
    "print([data for i in range(2) for data in l])"
   ]
  },
  {
   "cell_type": "code",
   "execution_count": 36,
   "id": "c9f3b79c-2183-405b-8f3f-78e7bb1a2b49",
   "metadata": {},
   "outputs": [
    {
     "name": "stdin",
     "output_type": "stream",
     "text": [
      "Enter the string :  [\"pradeep\",\"aniket\"]\n"
     ]
    },
    {
     "name": "stdout",
     "output_type": "stream",
     "text": [
      "the Largest word is pradeep\n",
      "The size of word is {len(l1)}\n"
     ]
    }
   ],
   "source": [
    "l=eval(input(\"Enter the string : \"))\n",
    "l1=l[0]\n",
    "for i in l:\n",
    "    if len(i)>len(l1):\n",
    "        l1=i\n",
    "print(f\"the Largest word is {l1}\")\n"
   ]
  },
  {
   "cell_type": "code",
   "execution_count": 39,
   "id": "46e0f4ab-8b94-4ee7-9d14-3e47646c2a8d",
   "metadata": {},
   "outputs": [
    {
     "name": "stdin",
     "output_type": "stream",
     "text": [
      "Enter the string :  [\"pradeep\",\"an\",\"kaushal\",\"abcd\"]\n",
      "Enter the length of the string :  3\n"
     ]
    },
    {
     "name": "stdout",
     "output_type": "stream",
     "text": [
      "['pradeep', 'kaushal', 'abcd']\n"
     ]
    }
   ],
   "source": [
    "l=eval(input(\"Enter the string : \"))\n",
    "num=int(input(\"Enter the length of the string : \"))\n",
    "print([data for data in l if len(data)>num])"
   ]
  },
  {
   "cell_type": "code",
   "execution_count": 41,
   "id": "4cf8c3a1-8d6c-4ae8-b4f4-9a9226e57b3e",
   "metadata": {},
   "outputs": [
    {
     "name": "stdout",
     "output_type": "stream",
     "text": [
      "[]\n"
     ]
    }
   ],
   "source": [
    "s = \"Hello, World!\"\n",
    "s.split(\" \")\n",
    "l1=['A','E','I','O','U']\n",
    "l2=[i for i in s for j in i if j in l1]\n",
    "print(l2)"
   ]
  },
  {
   "cell_type": "code",
   "execution_count": null,
   "id": "d176ea7d-06b6-4934-a5c9-156cc135758a",
   "metadata": {},
   "outputs": [],
   "source": []
  },
  {
   "cell_type": "code",
   "execution_count": null,
   "id": "0c70540a-7ff8-4c92-83ae-88c72b5a4684",
   "metadata": {},
   "outputs": [],
   "source": []
  }
 ],
 "metadata": {
  "kernelspec": {
   "display_name": "Python 3 (ipykernel)",
   "language": "python",
   "name": "python3"
  },
  "language_info": {
   "codemirror_mode": {
    "name": "ipython",
    "version": 3
   },
   "file_extension": ".py",
   "mimetype": "text/x-python",
   "name": "python",
   "nbconvert_exporter": "python",
   "pygments_lexer": "ipython3",
   "version": "3.12.4"
  }
 },
 "nbformat": 4,
 "nbformat_minor": 5
}
