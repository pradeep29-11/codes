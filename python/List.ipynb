{
 "cells": [
  {
   "cell_type": "code",
   "execution_count": 1,
   "id": "eaa93cc7-e5c7-4437-bd75-d0d74734183e",
   "metadata": {},
   "outputs": [
    {
     "name": "stdout",
     "output_type": "stream",
     "text": [
      "[11, 22, 33, 44]\n"
     ]
    }
   ],
   "source": [
    "l=[11,22,33,44]\n",
    "print(l)"
   ]
  },
  {
   "cell_type": "code",
   "execution_count": 2,
   "id": "1c81d655-6e51-4e1a-88dd-63a8db46ccd4",
   "metadata": {},
   "outputs": [
    {
     "name": "stdout",
     "output_type": "stream",
     "text": [
      "[80, 80, 50, 12, 92]\n"
     ]
    }
   ],
   "source": [
    "l=[80,80,50,12,92]\n",
    "print(l)"
   ]
  },
  {
   "cell_type": "code",
   "execution_count": 51,
   "id": "83ce1700-fe59-467e-8a34-b8742e026420",
   "metadata": {},
   "outputs": [
    {
     "name": "stdout",
     "output_type": "stream",
     "text": [
      "[11, 3.5, True, 'IND', (3+4j), None]\n"
     ]
    }
   ],
   "source": [
    " # List can hold homogenous as well heterogenous element. \n",
    "L = [11, 3.5, True, \"IND\", 3+4j, None]\n",
    " print(L)"
   ]
  },
  {
   "cell_type": "code",
   "execution_count": 3,
   "id": "620834f6-c1aa-4a4b-b0af-520697d58c36",
   "metadata": {},
   "outputs": [
    {
     "name": "stdout",
     "output_type": "stream",
     "text": [
      "['AAA', 'BBB', 'CCC', 'DDD']\n"
     ]
    }
   ],
   "source": [
    "l=[\"AAA\",\"BBB\",\"CCC\",\"DDD\"]\n",
    "print(l)"
   ]
  },
  {
   "cell_type": "code",
   "execution_count": 52,
   "id": "15841a2a-1802-4e11-88b3-794f7fb4d5da",
   "metadata": {},
   "outputs": [
    {
     "name": "stdout",
     "output_type": "stream",
     "text": [
      "['AAA', 'BBB', 'CCC', 'DDD', 'pradeep']\n"
     ]
    }
   ],
   "source": [
    "l=[\"AAA\",\"BBB\",\"CCC\",\"DDD\"]\n",
    "l.append(\"pradeep\")\n",
    "print(l)"
   ]
  },
  {
   "cell_type": "code",
   "execution_count": 8,
   "id": "bed4027b-2924-42fd-bfef-91fad3e23a17",
   "metadata": {},
   "outputs": [
    {
     "name": "stdout",
     "output_type": "stream",
     "text": [
      "AAA BBB CCC DDD "
     ]
    }
   ],
   "source": [
    "l=[\"AAA\",\"BBB\",\"CCC\",\"DDD\"]\n",
    "for data in range(0,len(l)):\n",
    "    print(l[data],end=\" \")"
   ]
  },
  {
   "cell_type": "code",
   "execution_count": 10,
   "id": "fa13a7ff-1d51-48ea-a768-462e9c3ecf03",
   "metadata": {},
   "outputs": [
    {
     "name": "stdout",
     "output_type": "stream",
     "text": [
      "AAA BBB CCC DDD "
     ]
    }
   ],
   "source": [
    "l=[\"AAA\",\"BBB\",\"CCC\",\"DDD\"]\n",
    "for data in l:\n",
    "    print(data,end=\" \")"
   ]
  },
  {
   "cell_type": "code",
   "execution_count": 13,
   "id": "31d55937-30e3-4278-a51e-c53564c58f35",
   "metadata": {},
   "outputs": [
    {
     "name": "stdout",
     "output_type": "stream",
     "text": [
      "[12.3, 11, 3.4, 5.6]\n",
      "<class 'list'>\n"
     ]
    }
   ],
   "source": [
    "l=[12.3,1.2,3.4,5.6]\n",
    "l[1]=11\n",
    "print(l)\n",
    "print(type(l))"
   ]
  },
  {
   "cell_type": "code",
   "execution_count": 21,
   "id": "7b7cb72f-15cc-44cf-86ed-06e4bc1921b5",
   "metadata": {},
   "outputs": [
    {
     "name": "stdout",
     "output_type": "stream",
     "text": [
      "['Beed', 'Mumbai', 'Nagar', 'Pune']\n"
     ]
    }
   ],
   "source": [
    "l=[\"Mumbai\",\"Pune\",\"Beed\",\"Nagar\"]\n",
    "l.sort()\n",
    "print(l)\n"
   ]
  },
  {
   "cell_type": "code",
   "execution_count": 23,
   "id": "88ce43cc-c39b-4728-af86-02230a90becf",
   "metadata": {},
   "outputs": [
    {
     "name": "stdout",
     "output_type": "stream",
     "text": [
      "['Pune', 'Beed', 'Nagar', 'Mumbai']\n"
     ]
    }
   ],
   "source": [
    "l=[\"Mumbai\",\"Pune\",\"Beed\",\"Nagar\"]\n",
    "l.sort(key=len)\n",
    "print(l)"
   ]
  },
  {
   "cell_type": "code",
   "execution_count": 25,
   "id": "b8fde631-0ade-4b80-b4ec-82d28c09bbae",
   "metadata": {},
   "outputs": [
    {
     "name": "stdout",
     "output_type": "stream",
     "text": [
      "['Pune', 'Nagar', 'Mumbai', 'Beed']\n"
     ]
    }
   ],
   "source": [
    "l=[\"Mumbai\",\"Pune\",\"Beed\",\"Nagar\"]\n",
    "l.sort(reverse=True)\n",
    "print(l)"
   ]
  },
  {
   "cell_type": "code",
   "execution_count": 28,
   "id": "3830a24b-0833-4edf-9d6a-7f0c6834e912",
   "metadata": {},
   "outputs": [
    {
     "name": "stdout",
     "output_type": "stream",
     "text": [
      "['Beed', 'Mumbai', 'Nagar', 'Pune']\n"
     ]
    }
   ],
   "source": [
    "l=[\"Mumbai\",\"Pune\",\"Beed\",\"Nagar\"]\n",
    "l.sort(reverse=False)\n",
    "print(l)"
   ]
  },
  {
   "cell_type": "code",
   "execution_count": 29,
   "id": "0fd39a3b-7e97-4f79-a0e3-578bc0243613",
   "metadata": {},
   "outputs": [
    {
     "name": "stdout",
     "output_type": "stream",
     "text": [
      "['Pune', 'Beed', 'Nagar', 'Mumbai']\n"
     ]
    }
   ],
   "source": [
    "l=[\"Mumbai\",\"Pune\",\"Beed\",\"Nagar\"]\n",
    "l.sort(reverse=False,key=len)\n",
    "print(l)"
   ]
  },
  {
   "cell_type": "code",
   "execution_count": 33,
   "id": "c39b2388-8e78-4b4c-a3f4-2dcb5262f23f",
   "metadata": {},
   "outputs": [
    {
     "name": "stdout",
     "output_type": "stream",
     "text": [
      "CCC\n",
      "DDD\n"
     ]
    }
   ],
   "source": [
    "l=[\"AAA\",\"BBB\",\"AAA\",\"CCC\",\"BBB\",\"DDD\"]\n",
    "for i in l:\n",
    "    if(l.count(i)>1):\n",
    "        continue\n",
    "    else:\n",
    "        print(i)"
   ]
  },
  {
   "cell_type": "code",
   "execution_count": 50,
   "id": "ad615f94-df5e-4896-b6b0-b7ff5004cd4c",
   "metadata": {},
   "outputs": [
    {
     "name": "stdout",
     "output_type": "stream",
     "text": [
      "['AAA', 'EEE', 'FFF', 'BBB', 'DDD', 'CCC']\n"
     ]
    }
   ],
   "source": [
    "lst=[\"AAA\",\"BBB\",\"CCC\",\"DDD\",\"EEE\",\"FFF\",\"BBB\",\"BBB\",\"CCC\",\"DDD\",\"CCC\"]\n",
    "l=[]\n",
    "for i in lst:\n",
    "    if(lst.count(i)>1):\n",
    "        lst.remove(i)\n",
    "print(lst)\n"
   ]
  },
  {
   "cell_type": "code",
   "execution_count": 2,
   "id": "eaaff30c-9827-44be-a50d-2e42cbe89b85",
   "metadata": {},
   "outputs": [
    {
     "name": "stdin",
     "output_type": "stream",
     "text": [
      "Enter the list :  [1,2,3,4]\n"
     ]
    },
    {
     "name": "stdout",
     "output_type": "stream",
     "text": [
      "[1, 2, 3, 4]\n"
     ]
    }
   ],
   "source": [
    "num=eval(input(\"Enter the list : \"))\n",
    "print(num)"
   ]
  },
  {
   "cell_type": "code",
   "execution_count": 7,
   "id": "dfc22ba3-4fbf-47c5-a80f-f4d094160cb0",
   "metadata": {},
   "outputs": [
    {
     "name": "stdin",
     "output_type": "stream",
     "text": [
      "Enter the number :  [1,2,3,4]\n"
     ]
    },
    {
     "name": "stdout",
     "output_type": "stream",
     "text": [
      "[1, 2, 3, 4, 1, 2, 3, 4, 1, 2, 3, 4, 1, 2, 3, 4]\n"
     ]
    }
   ],
   "source": [
    "#sum of number \n",
    "num=eval(input(\"Enter the number : \"))\n",
    "data=[]\n",
    "for i in num:\n",
    "    data=data+num\n",
    "print(data)"
   ]
  },
  {
   "cell_type": "code",
   "execution_count": 10,
   "id": "8c19c307-14a4-4da4-bd1f-0110e08a6d0d",
   "metadata": {},
   "outputs": [
    {
     "name": "stdin",
     "output_type": "stream",
     "text": [
      "Enter the number :  [4,6]\n"
     ]
    },
    {
     "name": "stdout",
     "output_type": "stream",
     "text": [
      "10\n"
     ]
    }
   ],
   "source": [
    "num=eval(input(\"Enter the number : \"))\n",
    "print(sum(num))"
   ]
  },
  {
   "cell_type": "code",
   "execution_count": 12,
   "id": "3dd282fd-7ae0-4450-85c8-50adf6377c9b",
   "metadata": {},
   "outputs": [
    {
     "name": "stdout",
     "output_type": "stream",
     "text": [
      "[44, 33, 22, 11]\n"
     ]
    }
   ],
   "source": [
    "#slice operator\n",
    "l=[11,22,33,44]\n",
    "print(l[-1::-1])"
   ]
  },
  {
   "cell_type": "code",
   "execution_count": 13,
   "id": "1de0cbad-5340-40b3-b5f1-096e04b46a27",
   "metadata": {},
   "outputs": [
    {
     "name": "stdout",
     "output_type": "stream",
     "text": [
      "[22, 33, 44]\n"
     ]
    }
   ],
   "source": [
    "l=[11,22,33,44]\n",
    "print(l[1::1])"
   ]
  },
  {
   "cell_type": "code",
   "execution_count": 14,
   "id": "80ecebe1-1d43-4e05-978f-799f5c8e8a75",
   "metadata": {},
   "outputs": [
    {
     "name": "stdout",
     "output_type": "stream",
     "text": [
      "[11, 22, 33, 44]\n"
     ]
    }
   ],
   "source": [
    "l=[11,22,33,44]\n",
    "print(l[-4::])"
   ]
  },
  {
   "cell_type": "code",
   "execution_count": 20,
   "id": "92928bc9-df72-493e-87e0-4505c8da99bc",
   "metadata": {},
   "outputs": [
    {
     "name": "stdout",
     "output_type": "stream",
     "text": [
      "['CCC', 'DDD', 'EEE', 'FFF']\n"
     ]
    }
   ],
   "source": [
    "L = [\"AAA\", \"BBB\", \"CCC\", \"DDD\", \"EEE\", \"FFF\"] \n",
    "print(L[-4::])"
   ]
  },
  {
   "cell_type": "code",
   "execution_count": 21,
   "id": "9fe1a3c3-1c95-4ce2-9a87-ee9f97cf2d7c",
   "metadata": {},
   "outputs": [
    {
     "name": "stdout",
     "output_type": "stream",
     "text": [
      "['FFF', 'EEE', 'DDD', 'CCC', 'BBB', 'AAA']\n"
     ]
    }
   ],
   "source": [
    "L = [\"AAA\", \"BBB\", \"CCC\", \"DDD\", \"EEE\", \"FFF\"] \n",
    "print(L[-1::-1])"
   ]
  },
  {
   "cell_type": "code",
   "execution_count": 22,
   "id": "b2a898f9-3d33-40d3-98c4-1263af97994f",
   "metadata": {},
   "outputs": [
    {
     "name": "stdout",
     "output_type": "stream",
     "text": [
      "['FFF', 'EEE', 'DDD', 'CCC', 'BBB', 'AAA']\n"
     ]
    }
   ],
   "source": [
    "L = [\"AAA\", \"BBB\", \"CCC\", \"DDD\", \"EEE\", \"FFF\"] \n",
    "print(L[len(L)-1::-1])"
   ]
  },
  {
   "cell_type": "code",
   "execution_count": 23,
   "id": "edab2848-77d2-48aa-bcb4-e4e5167e53ee",
   "metadata": {},
   "outputs": [
    {
     "name": "stdout",
     "output_type": "stream",
     "text": [
      "[10, 20, 30, 40, 50, 60, 70, 80, 90, 100]\n"
     ]
    }
   ],
   "source": [
    "lst1=[10,20,30,40,50] \n",
    "lst2=[60,70,80,90,100]\n",
    "lst3=lst1+lst2\n",
    "print(lst3)"
   ]
  },
  {
   "cell_type": "code",
   "execution_count": 26,
   "id": "ba1e98d9-b3bd-4d3c-b454-f92e47891e00",
   "metadata": {},
   "outputs": [
    {
     "name": "stdout",
     "output_type": "stream",
     "text": [
      "[10, 20, 30, 40, 50, 10, 20, 30, 40, 50]\n"
     ]
    }
   ],
   "source": [
    "l=[10,20,30,40,50]*2\n",
    "print(l)"
   ]
  },
  {
   "cell_type": "code",
   "execution_count": 29,
   "id": "6873d048-7b7c-41da-a3aa-cad8fe84021e",
   "metadata": {},
   "outputs": [
    {
     "name": "stdout",
     "output_type": "stream",
     "text": [
      "[0, 0, 0, 0, 0]\n"
     ]
    }
   ],
   "source": [
    "l=[]\n",
    "for i in range(5):\n",
    "    l.append(0)\n",
    "print(l)"
   ]
  },
  {
   "cell_type": "code",
   "execution_count": 30,
   "id": "7aacc062-170b-4df5-b950-59a5a420687a",
   "metadata": {},
   "outputs": [
    {
     "name": "stdout",
     "output_type": "stream",
     "text": [
      "['TCA', 'TCA', 'TCA', 'TCA', 'TCA']\n"
     ]
    }
   ],
   "source": [
    "l=[\"TCA\" for i in range(5)]   # Using List Comprehension\n",
    "print(l)"
   ]
  },
  {
   "cell_type": "code",
   "execution_count": 31,
   "id": "af09ab80-d089-4e2a-935f-37fdead49059",
   "metadata": {},
   "outputs": [
    {
     "name": "stdout",
     "output_type": "stream",
     "text": [
      "['Banglore', 'Delhi', 'Mumbai', 'Pune']\n"
     ]
    }
   ],
   "source": [
    "l=[\"Pune\",\"Mumbai\",\"Delhi\",\"Banglore\"]\n",
    "l.sort()\n",
    "print(l)"
   ]
  },
  {
   "cell_type": "code",
   "execution_count": 32,
   "id": "24cfda40-d820-4e9c-909f-032213511455",
   "metadata": {},
   "outputs": [
    {
     "name": "stdout",
     "output_type": "stream",
     "text": [
      "['AAA', 'BBB', 'CCC', 'DDD', 'EEE', 'FFF']\n",
      "[]\n"
     ]
    }
   ],
   "source": [
    "lst=[\"AAA\", \"BBB\", \"CCC\", \"DDD\", \"EEE\", \"FFF\"] \n",
    "print(lst) \n",
    "lst.clear() \n",
    "print(lst)"
   ]
  },
  {
   "cell_type": "code",
   "execution_count": 33,
   "id": "48d22f30-62d3-4789-a72e-2a5f2ff13f28",
   "metadata": {},
   "outputs": [
    {
     "name": "stdout",
     "output_type": "stream",
     "text": [
      "['FFF', 'EEE', 'DDD', 'CCC', 'BBB', 'AAA']\n"
     ]
    }
   ],
   "source": [
    "l=[\"AAA\", \"BBB\", \"CCC\", \"DDD\", \"EEE\", \"FFF\"] \n",
    "l.reverse()\n",
    "print(l)"
   ]
  },
  {
   "cell_type": "code",
   "execution_count": null,
   "id": "e20c38f7-37e9-4901-b75a-0e4edf6e8885",
   "metadata": {},
   "outputs": [],
   "source": [
    "# Using relational operator we can compare the contents of two list by using ==, !="
   ]
  },
  {
   "cell_type": "code",
   "execution_count": 36,
   "id": "ffb34e00-4f92-403c-9026-fbb8a6c905a3",
   "metadata": {},
   "outputs": [
    {
     "name": "stdout",
     "output_type": "stream",
     "text": [
      "No\n",
      "False\n",
      "False\n",
      "True\n"
     ]
    }
   ],
   "source": [
    "l1=[11,22,33,44,55]\n",
    "l2=[66,77,88,99,10]\n",
    "if l1==l2:\n",
    "    print(\"Yes\")\n",
    "else:\n",
    "    print(\"No\")\n",
    "    print(l1==l2)\n",
    "    print(l1>l2)\n",
    "    print(l1<l2)"
   ]
  },
  {
   "cell_type": "code",
   "execution_count": 40,
   "id": "c0386497-5743-40f3-91a7-f097b73e5356",
   "metadata": {},
   "outputs": [
    {
     "name": "stdout",
     "output_type": "stream",
     "text": [
      "False\n",
      "['AAA', 'BBB', 'CCC', 'DDD', 'PPP', 'QQQ']\n"
     ]
    }
   ],
   "source": [
    "l1=[\"AAA\", \"BBB\", \"CCC\", \"DDD\"]\n",
    "l2=[\"PPP\",\"QQQ\"]\n",
    "print(l1==l2)\n",
    "l1.extend(l2)\n",
    "print(l1)"
   ]
  },
  {
   "cell_type": "code",
   "execution_count": 43,
   "id": "d4a7b0f4-5e9a-491c-8fdf-3f9f99cea5e3",
   "metadata": {},
   "outputs": [
    {
     "name": "stdout",
     "output_type": "stream",
     "text": [
      "10 11 22\n"
     ]
    }
   ],
   "source": [
    "#packing\n",
    "a=10\n",
    "b=11\n",
    "c=22\n",
    "print(a,b,c)"
   ]
  },
  {
   "cell_type": "code",
   "execution_count": 50,
   "id": "ecaec344-d3ed-4cec-bc8c-dc8e73654e65",
   "metadata": {},
   "outputs": [
    {
     "name": "stdout",
     "output_type": "stream",
     "text": [
      "11.3\n",
      "22\n",
      "hi\n"
     ]
    }
   ],
   "source": [
    "#Unpacking\n",
    "l=[11.3,22,\"hi\"]\n",
    "a,b,c=l\n",
    "print(a)\n",
    "print(b)\n",
    "print(c)"
   ]
  },
  {
   "cell_type": "code",
   "execution_count": 51,
   "id": "339ff95f-3c95-4a18-9fea-b9176b38dc1f",
   "metadata": {},
   "outputs": [
    {
     "name": "stdin",
     "output_type": "stream",
     "text": [
      "Enter the list of the integer number :  [4,5]\n"
     ]
    },
    {
     "name": "stdout",
     "output_type": "stream",
     "text": [
      "9\n"
     ]
    }
   ],
   "source": [
    "l=eval(input(\"Enter the list of the integer number : \"))\n",
    "ans=0\n",
    "for data in l:\n",
    "    ans=ans+data\n",
    "print(ans)"
   ]
  },
  {
   "cell_type": "code",
   "execution_count": 57,
   "id": "a2d9306c-1f26-4cac-96e0-3323b2a0f12f",
   "metadata": {},
   "outputs": [
    {
     "name": "stdin",
     "output_type": "stream",
     "text": [
      "Enter the list of the integer number :  [11,223,44,6.4]\n"
     ]
    },
    {
     "name": "stdout",
     "output_type": "stream",
     "text": [
      "The list is [11, 223, 44, 6.4]\n",
      "Largest number is : 223\n"
     ]
    }
   ],
   "source": [
    "#Largest number \n",
    "num=eval(input(\"Enter the list of the integer number : \"))\n",
    "data=l[0]\n",
    "for i in num:\n",
    "    if i>data:\n",
    "        data=i\n",
    "print(f\"The list is {num}\")\n",
    "print(f\"Largest number is : {data}\")"
   ]
  },
  {
   "cell_type": "code",
   "execution_count": 66,
   "id": "e4c75099-6104-489d-907a-181e639a3eea",
   "metadata": {},
   "outputs": [
    {
     "name": "stdout",
     "output_type": "stream",
     "text": [
      "2\n",
      "None\n",
      "[11.3, 55, 22, 'hi']\n"
     ]
    }
   ],
   "source": [
    "l=[11.3,4,55,22,\"hi\"]\n",
    "print(l.index(55))\n",
    "print(l.remove(4))\n",
    "print(l)"
   ]
  },
  {
   "cell_type": "code",
   "execution_count": null,
   "id": "dda0f01b-c127-49d1-8c95-045abc2ea4c6",
   "metadata": {},
   "outputs": [
    {
     "name": "stdout",
     "output_type": "stream",
     "text": [
      "['AAA', 'BBB', 'CCC', 'AAA', 'DDD', 'AAA', 'BBB']\n"
     ]
    }
   ],
   "source": [
    "l=[\"AAA\",\"BBB\",\"CCC\",\"AAA\",\"DDD\",\"AAA\",\"BBB\"]\n",
    "print(l)\n",
    "cnt=l.count(\"BBB\")\n",
    "while cnt!= 0:\n",
    "    #l.remove(\"BBB\")\n",
    "    cny=cnt-1\n",
    "print(l)"
   ]
  },
  {
   "cell_type": "code",
   "execution_count": null,
   "id": "dda7fa5e-cd5a-4b8a-a995-b0c1975710f8",
   "metadata": {},
   "outputs": [],
   "source": []
  },
  {
   "cell_type": "code",
   "execution_count": null,
   "id": "4f9a9a33-351a-4829-a55c-37ba0e0ef8a8",
   "metadata": {},
   "outputs": [],
   "source": []
  },
  {
   "cell_type": "code",
   "execution_count": null,
   "id": "2ad5b1a0-ea7d-466c-9ae8-774226654993",
   "metadata": {},
   "outputs": [],
   "source": []
  },
  {
   "cell_type": "code",
   "execution_count": null,
   "id": "23393740-0900-4009-9657-0d3a61f81ee9",
   "metadata": {},
   "outputs": [],
   "source": []
  },
  {
   "cell_type": "code",
   "execution_count": null,
   "id": "b4acdff8-6922-47d8-ab6d-4a26d0320f34",
   "metadata": {},
   "outputs": [],
   "source": []
  },
  {
   "cell_type": "code",
   "execution_count": null,
   "id": "a42e298b-aa03-4cf2-a6c3-ab434aa21f42",
   "metadata": {},
   "outputs": [],
   "source": []
  },
  {
   "cell_type": "code",
   "execution_count": null,
   "id": "accee15a-2fb0-4efe-b841-23505dcc4676",
   "metadata": {},
   "outputs": [],
   "source": []
  },
  {
   "cell_type": "code",
   "execution_count": null,
   "id": "e89ae08f-1360-44b2-af20-8aeafe471a82",
   "metadata": {},
   "outputs": [],
   "source": []
  }
 ],
 "metadata": {
  "kernelspec": {
   "display_name": "Python 3 (ipykernel)",
   "language": "python",
   "name": "python3"
  },
  "language_info": {
   "codemirror_mode": {
    "name": "ipython",
    "version": 3
   },
   "file_extension": ".py",
   "mimetype": "text/x-python",
   "name": "python",
   "nbconvert_exporter": "python",
   "pygments_lexer": "ipython3",
   "version": "3.12.4"
  }
 },
 "nbformat": 4,
 "nbformat_minor": 5
}
