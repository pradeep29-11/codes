{
 "cells": [
  {
   "cell_type": "code",
   "execution_count": 1,
   "id": "85484e9a-fb12-4ee7-9928-98ba8929342a",
   "metadata": {},
   "outputs": [
    {
     "name": "stdout",
     "output_type": "stream",
     "text": [
      "{33, 11, 44, 22}\n"
     ]
    }
   ],
   "source": [
    "s={11,22,33,44}\n",
    "print(s)"
   ]
  },
  {
   "cell_type": "code",
   "execution_count": 4,
   "id": "a2db17c2-55e9-42af-a967-5c595e28c047",
   "metadata": {},
   "outputs": [
    {
     "name": "stdout",
     "output_type": "stream",
     "text": [
      "33\n",
      "11\n",
      "44\n",
      "22\n",
      "{33, 11, 44, 22}\n"
     ]
    }
   ],
   "source": [
    "s={11,22,33,44}\n",
    "for data in s:\n",
    "    print(data)\n",
    "  "
   ]
  },
  {
   "cell_type": "code",
   "execution_count": 9,
   "id": "a4efb51f-6902-4507-acf4-1f1ce17a3000",
   "metadata": {},
   "outputs": [
    {
     "name": "stdout",
     "output_type": "stream",
     "text": [
      "{'o', 'u', 'e', 'a'}\n"
     ]
    }
   ],
   "source": [
    "str=\"My name s pradeep I love my country\"\n",
    "v={'a','e','i','o','u'}\n",
    "l=set(str)\n",
    "s=l.intersection(v)\n",
    "print(s)"
   ]
  },
  {
   "cell_type": "code",
   "execution_count": 15,
   "id": "d9e05a13-c7a3-4d67-8000-19a314ce5309",
   "metadata": {},
   "outputs": [
    {
     "name": "stdout",
     "output_type": "stream",
     "text": [
      "33 33\n",
      "11 11\n",
      "44 44\n",
      "22 22\n"
     ]
    }
   ],
   "source": [
    "s={11,22,33,44}\n",
    "for data in s:\n",
    "    print(data,hash(data))"
   ]
  },
  {
   "cell_type": "code",
   "execution_count": 23,
   "id": "bdc2b68d-d3a6-44a8-a1b6-b7b9f43b56fe",
   "metadata": {},
   "outputs": [
    {
     "name": "stdout",
     "output_type": "stream",
     "text": [
      "pradeep : -8519048176030672207\n",
      "omkar : 6981055896216601287\n",
      "aniket : -6575937758396512677\n",
      "kaushal : 7890919136025677708\n",
      "abhi : -6216623190106509666\n"
     ]
    }
   ],
   "source": [
    "s={\"kaushal\",\"pradeep\",\"aniket\",\"abhi\",\"omkar\"}\n",
    "for data in s:\n",
    "    print(data,\":\",hash(data))"
   ]
  },
  {
   "cell_type": "code",
   "execution_count": 26,
   "id": "4bd92acb-ebeb-4818-b192-5a9794eeb7b0",
   "metadata": {},
   "outputs": [
    {
     "name": "stdout",
     "output_type": "stream",
     "text": [
      "{11, 44, 77, 55}\n"
     ]
    }
   ],
   "source": [
    "s={11,11,11,55,44,77,55}\n",
    "print(s)"
   ]
  },
  {
   "cell_type": "code",
   "execution_count": 25,
   "id": "2cb24b42-9a93-48b2-8dac-05368054890f",
   "metadata": {},
   "outputs": [
    {
     "name": "stdout",
     "output_type": "stream",
     "text": [
      "[10, 22, 44, 22, 66, 88]\n",
      "{66, 10, 44, 22, 88}\n",
      "(10, 22, 44, 22, 66, 88)\n"
     ]
    }
   ],
   "source": [
    "s=[10,22,44,22,66,88]\n",
    "l=list(s)\n",
    "print(l)\n",
    "S=set(s)\n",
    "print(S)\n",
    "t=tuple(s)\n",
    "print(t)"
   ]
  },
  {
   "cell_type": "code",
   "execution_count": 29,
   "id": "b4491210-f6d7-4233-9790-2c88b349e2d3",
   "metadata": {},
   "outputs": [
    {
     "name": "stdout",
     "output_type": "stream",
     "text": [
      "4\n",
      "{11, 44, 77, 55}\n"
     ]
    }
   ],
   "source": [
    "s={11,11,11,55,44,77,55}\n",
    "l=len(s)\n",
    "print(l)\n",
    "print(s)\n"
   ]
  },
  {
   "cell_type": "code",
   "execution_count": 34,
   "id": "22a75bd7-bbc2-42b1-a368-32d3bbb26b64",
   "metadata": {},
   "outputs": [
    {
     "name": "stdout",
     "output_type": "stream",
     "text": [
      "()\n",
      "<class 'tuple'>\n",
      "[]\n",
      "<class 'list'>\n",
      "{}\n",
      "<class 'dict'>\n",
      "set()\n",
      "<class 'set'>\n"
     ]
    }
   ],
   "source": [
    "t=()\n",
    "print(t)\n",
    "print(type(t))\n",
    "\n",
    "l=[]\n",
    "print(l)\n",
    "print(type(l))\n",
    "\n",
    "s={}\n",
    "print(s)\n",
    "print(type(s))\n",
    "\n",
    "a=set()\n",
    "print(a)\n",
    "print(type(a))"
   ]
  },
  {
   "cell_type": "code",
   "execution_count": 50,
   "id": "db1f18cf-277b-486e-af78-4b2cf163a13e",
   "metadata": {},
   "outputs": [
    {
     "name": "stdout",
     "output_type": "stream",
     "text": [
      "{'mumbai', 'beed', 'pune'}\n",
      "1593395680128\n",
      "{'mumbai', 11, 'kalyan', 'beed', 'pune'}\n",
      "1593395680128\n",
      "{'mumbai', 'kalyan', 'beed', 'pune'}\n",
      "set()\n",
      "1593395680128\n"
     ]
    }
   ],
   "source": [
    "s={'pune','mumbai',\"beed\",'pune'}\n",
    "print(s)\n",
    "print(id(s))\n",
    "s.add(11)\n",
    "s.add(\"kalyan\")\n",
    "print(s)\n",
    "print(id(s))\n",
    "s.remove(11)\n",
    "print(s)\n",
    "s.clear()\n",
    "print(s)\n",
    "print(id(s))"
   ]
  },
  {
   "cell_type": "code",
   "execution_count": 63,
   "id": "c59d7ef2-0f28-426c-a455-6307e1f71c89",
   "metadata": {},
   "outputs": [
    {
     "name": "stdout",
     "output_type": "stream",
     "text": [
      "{'mumbai', 0, 1, 2, 3, 4, 33, 11, 22, 'beed', 'pune'}\n"
     ]
    }
   ],
   "source": [
    "l=set()\n",
    "s={11,22,33}\n",
    "str={'pune','mumbai',\"beed\",'pune'}\n",
    "\n",
    "r=range(0,5)\n",
    "l.update(str,r,s)\n",
    "print(l)"
   ]
  },
  {
   "cell_type": "code",
   "execution_count": 64,
   "id": "f45cdd23-08cc-4fa2-b016-b315d9a4d351",
   "metadata": {},
   "outputs": [
    {
     "ename": "TypeError",
     "evalue": "unhashable type: 'list'",
     "output_type": "error",
     "traceback": [
      "\u001b[1;31m---------------------------------------------------------------------------\u001b[0m",
      "\u001b[1;31mTypeError\u001b[0m                                 Traceback (most recent call last)",
      "Cell \u001b[1;32mIn[64], line 1\u001b[0m\n\u001b[1;32m----> 1\u001b[0m s\u001b[38;5;241m=\u001b[39m{\u001b[38;5;241m11\u001b[39m,\u001b[38;5;241m22\u001b[39m,\u001b[38;5;241m33\u001b[39m,[\u001b[38;5;241m66\u001b[39m,\u001b[38;5;241m99\u001b[39m]}\n\u001b[0;32m      2\u001b[0m \u001b[38;5;28mprint\u001b[39m(S)\n",
      "\u001b[1;31mTypeError\u001b[0m: unhashable type: 'list'"
     ]
    }
   ],
   "source": [
    "s={11,22,33,[66,99]}\n",
    "print(S)"
   ]
  },
  {
   "cell_type": "code",
   "execution_count": 65,
   "id": "2df57681-4d82-4c87-9c34-59c813143fad",
   "metadata": {},
   "outputs": [
    {
     "name": "stdout",
     "output_type": "stream",
     "text": [
      "{33, 22, 11, 44, (99, 88)}\n"
     ]
    }
   ],
   "source": [
    "s={11,22,33,44,(99,88)}\n",
    "print(s)"
   ]
  },
  {
   "cell_type": "code",
   "execution_count": 70,
   "id": "0963d6cb-b16e-4baa-81a1-8570264d6928",
   "metadata": {},
   "outputs": [
    {
     "name": "stdout",
     "output_type": "stream",
     "text": [
      "{88, 66, 22, 55}\n",
      "1593397135168\n",
      "1593395679904\n"
     ]
    }
   ],
   "source": [
    "set1={22,55,66,88}\n",
    "set2=set()\n",
    "set2=set1.copy()\n",
    "print(set2)\n",
    "print(id(set1))\n",
    "print(id(set2))"
   ]
  },
  {
   "cell_type": "code",
   "execution_count": 72,
   "id": "17780b82-2069-49c4-b0a0-d3c8efd016d9",
   "metadata": {},
   "outputs": [
    {
     "name": "stdout",
     "output_type": "stream",
     "text": [
      "{88, 66, 55}\n"
     ]
    }
   ],
   "source": [
    "set1={22,55,66,88}\n",
    "set1.remove(22)\n",
    "print(set1)"
   ]
  },
  {
   "cell_type": "code",
   "execution_count": 73,
   "id": "887e3084-acfd-4a85-8b94-ab92db2504c6",
   "metadata": {},
   "outputs": [
    {
     "ename": "KeyError",
     "evalue": "99",
     "output_type": "error",
     "traceback": [
      "\u001b[1;31m---------------------------------------------------------------------------\u001b[0m",
      "\u001b[1;31mKeyError\u001b[0m                                  Traceback (most recent call last)",
      "Cell \u001b[1;32mIn[73], line 2\u001b[0m\n\u001b[0;32m      1\u001b[0m set1\u001b[38;5;241m=\u001b[39m{\u001b[38;5;241m22\u001b[39m,\u001b[38;5;241m55\u001b[39m,\u001b[38;5;241m66\u001b[39m,\u001b[38;5;241m88\u001b[39m}\n\u001b[1;32m----> 2\u001b[0m \u001b[43mset1\u001b[49m\u001b[38;5;241;43m.\u001b[39;49m\u001b[43mremove\u001b[49m\u001b[43m(\u001b[49m\u001b[38;5;241;43m99\u001b[39;49m\u001b[43m)\u001b[49m\n\u001b[0;32m      3\u001b[0m \u001b[38;5;28mprint\u001b[39m(set1)\n",
      "\u001b[1;31mKeyError\u001b[0m: 99"
     ]
    }
   ],
   "source": [
    "set1={22,55,66,88}\n",
    "set1.remove(99)\n",
    "print(set1)"
   ]
  },
  {
   "cell_type": "code",
   "execution_count": 76,
   "id": "8776d00d-aac5-441c-b3db-d9971e89254b",
   "metadata": {},
   "outputs": [
    {
     "name": "stdout",
     "output_type": "stream",
     "text": [
      "66\n"
     ]
    }
   ],
   "source": [
    "set1={22,55,66,88}\n",
    "set1.pop()\n",
    "print(set1.pop())"
   ]
  },
  {
   "cell_type": "code",
   "execution_count": 77,
   "id": "4108efb5-4a3b-4018-838c-aa2c80267672",
   "metadata": {},
   "outputs": [
    {
     "ename": "KeyError",
     "evalue": "'pop from an empty set'",
     "output_type": "error",
     "traceback": [
      "\u001b[1;31m---------------------------------------------------------------------------\u001b[0m",
      "\u001b[1;31mKeyError\u001b[0m                                  Traceback (most recent call last)",
      "Cell \u001b[1;32mIn[77], line 2\u001b[0m\n\u001b[0;32m      1\u001b[0m set1\u001b[38;5;241m=\u001b[39m\u001b[38;5;28mset\u001b[39m()\n\u001b[1;32m----> 2\u001b[0m \u001b[43mset1\u001b[49m\u001b[38;5;241;43m.\u001b[39;49m\u001b[43mpop\u001b[49m\u001b[43m(\u001b[49m\u001b[43m)\u001b[49m\n\u001b[0;32m      3\u001b[0m \u001b[38;5;28mprint\u001b[39m(set1\u001b[38;5;241m.\u001b[39mpop())\n",
      "\u001b[1;31mKeyError\u001b[0m: 'pop from an empty set'"
     ]
    }
   ],
   "source": [
    "set1=set()\n",
    "set1.pop()\n",
    "print(set1.pop())"
   ]
  },
  {
   "cell_type": "code",
   "execution_count": null,
   "id": "46f753dc-cdd6-47d8-abbd-958c8d9cede3",
   "metadata": {},
   "outputs": [],
   "source": []
  },
  {
   "cell_type": "code",
   "execution_count": null,
   "id": "b30e4d6f-7e47-4724-b7dd-3ae248408362",
   "metadata": {},
   "outputs": [],
   "source": []
  },
  {
   "cell_type": "code",
   "execution_count": null,
   "id": "92982790-5b65-41fc-a753-29ac7cd87b70",
   "metadata": {},
   "outputs": [],
   "source": []
  },
  {
   "cell_type": "code",
   "execution_count": null,
   "id": "55e1b7ef-bfde-489b-852d-90008e235732",
   "metadata": {},
   "outputs": [],
   "source": []
  }
 ],
 "metadata": {
  "kernelspec": {
   "display_name": "Python 3 (ipykernel)",
   "language": "python",
   "name": "python3"
  },
  "language_info": {
   "codemirror_mode": {
    "name": "ipython",
    "version": 3
   },
   "file_extension": ".py",
   "mimetype": "text/x-python",
   "name": "python",
   "nbconvert_exporter": "python",
   "pygments_lexer": "ipython3",
   "version": "3.12.4"
  }
 },
 "nbformat": 4,
 "nbformat_minor": 5
}
