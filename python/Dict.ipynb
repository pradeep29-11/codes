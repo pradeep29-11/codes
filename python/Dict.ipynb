{
 "cells": [
  {
   "cell_type": "code",
   "execution_count": 3,
   "id": "13a7dc8a-7cee-4c2f-982e-9fba578e7aa7",
   "metadata": {},
   "outputs": [
    {
     "name": "stdout",
     "output_type": "stream",
     "text": [
      "{15: 'pradeep', 16: 'aniket', 17: 'kaushal', 18: 'chandu', 19: 'omkar'}\n",
      "<class 'dict'>\n"
     ]
    }
   ],
   "source": [
    "d={15:'pradeep',16:'aniket',17:'kaushal',18:'chandu',19:'omkar'}\n",
    "print(d)\n",
    "print(type(d))"
   ]
  },
  {
   "cell_type": "code",
   "execution_count": 4,
   "id": "978d2172-e480-42f0-9ffe-35ffc2f7351b",
   "metadata": {},
   "outputs": [
    {
     "name": "stdout",
     "output_type": "stream",
     "text": [
      "{'d': 'pradeep', 'k': 'kaushal', 'a': 'aniket'}\n"
     ]
    }
   ],
   "source": [
    "d={'d':'pradeep','k':'kaushal','a':'aniket'}\n",
    "print(d)"
   ]
  },
  {
   "cell_type": "code",
   "execution_count": 5,
   "id": "4a724524-2c84-4c31-a744-282cbabb9988",
   "metadata": {},
   "outputs": [
    {
     "name": "stdout",
     "output_type": "stream",
     "text": [
      "{'d': 12, 'k': 15, 'a': 17}\n"
     ]
    }
   ],
   "source": [
    "d={'d':12,'k':15,'a':17}\n",
    "print(d)"
   ]
  },
  {
   "cell_type": "code",
   "execution_count": 6,
   "id": "9b9b7ec2-aede-4f45-bff5-5acc001ba466",
   "metadata": {},
   "outputs": [
    {
     "name": "stdout",
     "output_type": "stream",
     "text": [
      "{1: [10, 30]}\n"
     ]
    }
   ],
   "source": [
    "d={1:[10,30]}\n",
    "print(d)"
   ]
  },
  {
   "cell_type": "code",
   "execution_count": 7,
   "id": "4e5ccc18-b4fa-4c53-ae08-fd9fa36f5699",
   "metadata": {},
   "outputs": [
    {
     "ename": "TypeError",
     "evalue": "unhashable type: 'list'",
     "output_type": "error",
     "traceback": [
      "\u001b[1;31m---------------------------------------------------------------------------\u001b[0m",
      "\u001b[1;31mTypeError\u001b[0m                                 Traceback (most recent call last)",
      "Cell \u001b[1;32mIn[7], line 1\u001b[0m\n\u001b[1;32m----> 1\u001b[0m d\u001b[38;5;241m=\u001b[39m{[\u001b[38;5;241m10.20\u001b[39m]:\u001b[38;5;124m\"\u001b[39m\u001b[38;5;124mpradeep\u001b[39m\u001b[38;5;124m\"\u001b[39m}\n\u001b[0;32m      2\u001b[0m \u001b[38;5;28mprint\u001b[39m(d)\n",
      "\u001b[1;31mTypeError\u001b[0m: unhashable type: 'list'"
     ]
    }
   ],
   "source": [
    "d={[10.20]:\"pradeep\"}\n",
    "print(d)"
   ]
  },
  {
   "cell_type": "code",
   "execution_count": 8,
   "id": "59dca728-4ebd-4288-aa71-446e620e442b",
   "metadata": {},
   "outputs": [
    {
     "name": "stdout",
     "output_type": "stream",
     "text": [
      "{15: 'omkar', 16: 'aniket', 17: 'kaushal', 18: 'chandu'}\n"
     ]
    }
   ],
   "source": [
    "d={15:'pradeep',16:'aniket',17:'kaushal',18:'chandu',15:'omkar'}\n",
    "print(d)"
   ]
  },
  {
   "cell_type": "code",
   "execution_count": 10,
   "id": "26791b8e-1352-40ac-8a0d-c72468fb1bb0",
   "metadata": {},
   "outputs": [
    {
     "name": "stdout",
     "output_type": "stream",
     "text": [
      "<class 'dict'>\n",
      "{}\n"
     ]
    }
   ],
   "source": [
    "d={}\n",
    "print(type(d))\n",
    "print(d)"
   ]
  },
  {
   "cell_type": "code",
   "execution_count": 14,
   "id": "5b002146-f424-43fa-baab-2ec7614ea2d8",
   "metadata": {},
   "outputs": [
    {
     "name": "stdout",
     "output_type": "stream",
     "text": [
      "[[10, 20], [30, 40]]\n",
      "<class 'list'>\n",
      "{10: 20, 30: 40}\n",
      "<class 'dict'>\n"
     ]
    }
   ],
   "source": [
    "d=[[10,20],[30,40]]\n",
    "print(d)\n",
    "print(type(d))\n",
    "l=dict(d)\n",
    "print(l)\n",
    "print(type(l))"
   ]
  },
  {
   "cell_type": "code",
   "execution_count": 19,
   "id": "4eb701b0-bd6b-4fd8-ad11-af7ff1d785f1",
   "metadata": {},
   "outputs": [
    {
     "name": "stdout",
     "output_type": "stream",
     "text": [
      "[(10, 20), (30, 40)]\n",
      "<class 'list'>\n",
      "{10: 20, 30: 40}\n",
      "<class 'dict'>\n"
     ]
    }
   ],
   "source": [
    "d=[(10,20),(30,40)]\n",
    "print(d)\n",
    "print(type(d))\n",
    "D=dict(d)\n",
    "print(D)\n",
    "print(type(D))"
   ]
  },
  {
   "cell_type": "code",
   "execution_count": 20,
   "id": "5d67f50a-c3f4-46bc-beb6-cbf3db9819a3",
   "metadata": {},
   "outputs": [
    {
     "name": "stdout",
     "output_type": "stream",
     "text": [
      "((10, 20), (30, 40))\n",
      "<class 'tuple'>\n",
      "{10: 20, 30: 40}\n",
      "<class 'dict'>\n"
     ]
    }
   ],
   "source": [
    "d=((10,20),(30,40))\n",
    "print(d)\n",
    "print(type(d))\n",
    "D=dict(d)\n",
    "print(D)\n",
    "print(type(D))"
   ]
  },
  {
   "cell_type": "code",
   "execution_count": 22,
   "id": "4d3a2ea3-0c43-4efb-978b-082f43d656ca",
   "metadata": {},
   "outputs": [
    {
     "name": "stdout",
     "output_type": "stream",
     "text": [
      "(10, 11, 22, 33, 44)\n"
     ]
    },
    {
     "ename": "TypeError",
     "evalue": "cannot convert dictionary update sequence element #0 to a sequence",
     "output_type": "error",
     "traceback": [
      "\u001b[1;31m---------------------------------------------------------------------------\u001b[0m",
      "\u001b[1;31mTypeError\u001b[0m                                 Traceback (most recent call last)",
      "Cell \u001b[1;32mIn[22], line 3\u001b[0m\n\u001b[0;32m      1\u001b[0m d\u001b[38;5;241m=\u001b[39m(\u001b[38;5;241m10\u001b[39m,\u001b[38;5;241m11\u001b[39m,\u001b[38;5;241m22\u001b[39m,\u001b[38;5;241m33\u001b[39m,\u001b[38;5;241m44\u001b[39m)\n\u001b[0;32m      2\u001b[0m \u001b[38;5;28mprint\u001b[39m(d)\n\u001b[1;32m----> 3\u001b[0m D\u001b[38;5;241m=\u001b[39m\u001b[38;5;28;43mdict\u001b[39;49m\u001b[43m(\u001b[49m\u001b[43md\u001b[49m\u001b[43m)\u001b[49m\n",
      "\u001b[1;31mTypeError\u001b[0m: cannot convert dictionary update sequence element #0 to a sequence"
     ]
    }
   ],
   "source": [
    "d=(10,11,22,33,44)\n",
    "print(d)\n",
    "D=dict(d)"
   ]
  },
  {
   "cell_type": "code",
   "execution_count": 25,
   "id": "a3a98f69-a6f9-4fd4-a159-74495b988280",
   "metadata": {},
   "outputs": [
    {
     "name": "stdout",
     "output_type": "stream",
     "text": [
      "<class 'set'>\n",
      "{(30, 40), (10, 20)}\n",
      "{30: 40, 10: 20}\n",
      "<class 'dict'>\n"
     ]
    }
   ],
   "source": [
    "d={(10,20),(30,40)}\n",
    "print(type(d))\n",
    "print(d)\n",
    "D=dict(d)\n",
    "print(D)\n",
    "print(type(D))"
   ]
  },
  {
   "cell_type": "code",
   "execution_count": 31,
   "id": "d1d5573c-b072-4624-8cb7-8700aa71800b",
   "metadata": {},
   "outputs": [
    {
     "name": "stdout",
     "output_type": "stream",
     "text": [
      "{15: 'omkar', 16: 'aniket', 17: 'kaushal', 18: 'chandu'}\n",
      "15----> omkar\n",
      "16----> aniket\n",
      "17----> aniket\n",
      "{15: 'pokale', 16: 'aniket', 17: 'kaushal', 18: 'chandu'}\n"
     ]
    }
   ],
   "source": [
    "d={15:'pradeep',16:'aniket',17:'kaushal',18:'chandu',15:'omkar'}\n",
    "print(d)\n",
    "print(\"15---->\",d[15])\n",
    "print(\"16---->\",d[16])\n",
    "print(\"17---->\",d[16])\n",
    "d[15]=\"pokale\"\n",
    "print(d)"
   ]
  },
  {
   "cell_type": "code",
   "execution_count": 33,
   "id": "418830cd-bbd0-4275-ac7f-fdb57302c1bf",
   "metadata": {},
   "outputs": [
    {
     "name": "stdout",
     "output_type": "stream",
     "text": [
      "pradeep\n",
      "9090\n"
     ]
    }
   ],
   "source": [
    "d={15:['pradeep',8080],16:['aniket',9090]}\n",
    "print(d[15][0])\n",
    "print(d[16][1])"
   ]
  },
  {
   "cell_type": "code",
   "execution_count": 38,
   "id": "e7f10ffc-9151-4ecf-9be1-0a20212c80d5",
   "metadata": {},
   "outputs": [
    {
     "name": "stdout",
     "output_type": "stream",
     "text": [
      "pradeep\n",
      "aniket\n",
      "kaushal\n"
     ]
    }
   ],
   "source": [
    "d={15:'pradeep',16:'aniket',17:'kaushal',18:'chandu',19:'omkar'}\n",
    "print(d.get(15))\n",
    "print(d.get(16))\n",
    "print(d.get(17))"
   ]
  },
  {
   "cell_type": "code",
   "execution_count": 6,
   "id": "1ea9ec39-6e25-4955-af02-c02de4bdfc28",
   "metadata": {},
   "outputs": [
    {
     "name": "stdout",
     "output_type": "stream",
     "text": [
      "15\n",
      "21\n"
     ]
    }
   ],
   "source": [
    "d={15:'pradeep',16:'aniket',17:'kaushal',21:'chandu',19:'omkar'}\n",
    "\n",
    "print(min(d))\n",
    "print(max(d))"
   ]
  },
  {
   "cell_type": "code",
   "execution_count": 13,
   "id": "6bdf8ff5-a166-415a-b73b-4d4bf95024f9",
   "metadata": {},
   "outputs": [
    {
     "name": "stdout",
     "output_type": "stream",
     "text": [
      "{15: 'pradeep', 17: 'kaushal', 21: 'londhe', 19: 'omkar', 12: 'nkar', 16: 'aniket'}\n",
      "2041328933760\n",
      "2041328560960\n"
     ]
    }
   ],
   "source": [
    "d1={15:'pradeep',17:'kaushal',21:'chandu',19:'omkar'}\n",
    "d2={12:'nkar',21:'londhe',16:'aniket'}\n",
    "d1.update(d2)\n",
    "print(d1)\n",
    "print(id(d1))\n",
    "print(id(d2))"
   ]
  },
  {
   "cell_type": "code",
   "execution_count": 19,
   "id": "12aa86c7-c6b6-4867-96fc-3a6d392d1b51",
   "metadata": {},
   "outputs": [
    {
     "name": "stdout",
     "output_type": "stream",
     "text": [
      "{1: 11, 2: 22, 3: 33, 4: 55, 5: 55, 6: 66, 7: 77}\n"
     ]
    }
   ],
   "source": [
    "d1={1:11,2:22,3:33,4:55}\n",
    "d2={5:55,6:66,7:77}\n",
    "d1.update(d2)\n",
    "print(d1)"
   ]
  },
  {
   "cell_type": "code",
   "execution_count": 22,
   "id": "d3438beb-f65f-4f24-998c-7fd63d34b1fc",
   "metadata": {},
   "outputs": [
    {
     "name": "stdout",
     "output_type": "stream",
     "text": [
      "4\n"
     ]
    }
   ],
   "source": [
    "d1={1:11,2:22,3:33,4:55}\n",
    "print(len(d1))"
   ]
  },
  {
   "cell_type": "code",
   "execution_count": 23,
   "id": "4de89727-05ce-4f0f-9e88-ec5e197952fa",
   "metadata": {},
   "outputs": [
    {
     "name": "stdout",
     "output_type": "stream",
     "text": [
      "{}\n"
     ]
    }
   ],
   "source": [
    "d1={1:11,2:22,3:33,4:55}\n",
    "d2.clear()\n",
    "print(d2)"
   ]
  },
  {
   "cell_type": "code",
   "execution_count": 27,
   "id": "b81c2973-160e-41e1-a794-edbe8749d290",
   "metadata": {},
   "outputs": [
    {
     "name": "stdout",
     "output_type": "stream",
     "text": [
      "11\n"
     ]
    }
   ],
   "source": [
    "d1={1:11,2:22,3:33,4:55}\n",
    "print(d1.pop(1))"
   ]
  },
  {
   "cell_type": "code",
   "execution_count": 28,
   "id": "2e84cb9f-097e-4d30-b1dc-9f72b50ce762",
   "metadata": {},
   "outputs": [
    {
     "name": "stdout",
     "output_type": "stream",
     "text": [
      "(4, 55)\n"
     ]
    }
   ],
   "source": [
    "d1={1:11,2:22,3:33,4:55}\n",
    "print(d1.popitem())"
   ]
  },
  {
   "cell_type": "code",
   "execution_count": 32,
   "id": "8e4337b4-6b6a-47d8-ba9b-640429b5ac4d",
   "metadata": {},
   "outputs": [
    {
     "name": "stdout",
     "output_type": "stream",
     "text": [
      "{2: 22, 3: 33, 4: 55}\n"
     ]
    }
   ],
   "source": [
    "d1={1:11,2:22,3:33,4:55}\n",
    "del d1[1]\n",
    "print(d1)"
   ]
  },
  {
   "cell_type": "code",
   "execution_count": 36,
   "id": "c37d9e80-4445-4320-8aab-b02eb32a2786",
   "metadata": {},
   "outputs": [
    {
     "name": "stdout",
     "output_type": "stream",
     "text": [
      "{1: 11, 2: 22, 3: 33, 4: 55}\n",
      "2041328948544\n",
      "2041328945280\n"
     ]
    }
   ],
   "source": [
    "d1={1:11,2:22,3:33,4:55}\n",
    "d2=d1.copy()\n",
    "print(d2)\n",
    "print(id(d1))\n",
    "print(id(d2))"
   ]
  },
  {
   "cell_type": "code",
   "execution_count": 42,
   "id": "e9229cf8-3e75-48ff-9846-dd15c790e1c4",
   "metadata": {},
   "outputs": [
    {
     "name": "stdout",
     "output_type": "stream",
     "text": [
      "{1: 11, 2: [11, 22], 3: 33, 4: 55}\n",
      "140717426670328\n",
      "{1: 11, 2: [11, 22], 3: 33, 4: 55}\n",
      "140717426670328\n"
     ]
    }
   ],
   "source": [
    "d1={1:11,2:[11,22],3:33,4:55}\n",
    "print(d1)\n",
    "print(id(d1[2][0]))\n",
    "d2=d1.copy()\n",
    "print(d2)\n",
    "print(id(d2[2][0]))"
   ]
  },
  {
   "cell_type": "code",
   "execution_count": 8,
   "id": "8eaddbbd-a86e-4bb7-ab5d-a7ffb8a5c822",
   "metadata": {},
   "outputs": [
    {
     "name": "stdout",
     "output_type": "stream",
     "text": [
      "{15: 'pradeep', 17: 'kaushal', 21: 'chandu', 19: 'omkar'}\n",
      "dict_keys([15, 17, 21, 19])\n",
      "(15, 17, 21, 19)\n",
      "dict_values(['pradeep', 'kaushal', 'chandu', 'omkar'])\n",
      "dict_items([(15, 'pradeep'), (17, 'kaushal'), (21, 'chandu'), (19, 'omkar')])\n"
     ]
    }
   ],
   "source": [
    "d1={15:'pradeep',17:'kaushal',21:'chandu',19:'omkar'}\n",
    "print(d1)\n",
    "print(d1.keys())\n",
    "print(tuple(d1.keys()))\n",
    "print(d1.values())\n",
    "print(d1.items())"
   ]
  },
  {
   "cell_type": "code",
   "execution_count": 9,
   "id": "51c02a09-714a-4272-b45b-d28b936ce8aa",
   "metadata": {},
   "outputs": [
    {
     "name": "stdout",
     "output_type": "stream",
     "text": [
      "15\n",
      "17\n",
      "21\n",
      "19\n"
     ]
    }
   ],
   "source": [
    "d1={15:'pradeep',17:'kaushal',21:'chandu',19:'omkar'}\n",
    "for data in d1:\n",
    "    print(data)"
   ]
  },
  {
   "cell_type": "code",
   "execution_count": 11,
   "id": "6d8d00d4-306f-454f-8ffc-0984e48a9b19",
   "metadata": {},
   "outputs": [
    {
     "name": "stdout",
     "output_type": "stream",
     "text": [
      "(15, 'pradeep')\n",
      "(17, 'kaushal')\n",
      "(21, 'chandu')\n",
      "(19, 'omkar')\n"
     ]
    }
   ],
   "source": [
    "d1={15:'pradeep',17:'kaushal',21:'chandu',19:'omkar'}\n",
    "for data in d1.items():\n",
    "    print(data)"
   ]
  },
  {
   "cell_type": "code",
   "execution_count": 12,
   "id": "70dd18b7-2fc0-4847-8804-86024da999e4",
   "metadata": {},
   "outputs": [
    {
     "name": "stdout",
     "output_type": "stream",
     "text": [
      "15 ---> pradeep\n",
      "17 ---> kaushal\n",
      "21 ---> chandu\n",
      "19 ---> omkar\n"
     ]
    }
   ],
   "source": [
    "d1={15:'pradeep',17:'kaushal',21:'chandu',19:'omkar'}\n",
    "for x,y in d1.items():\n",
    "    print(x,\"--->\",y)"
   ]
  },
  {
   "cell_type": "code",
   "execution_count": 15,
   "id": "49e87107-91ef-48ba-a400-0edd8ac3dc8b",
   "metadata": {},
   "outputs": [
    {
     "name": "stdout",
     "output_type": "stream",
     "text": [
      "pradeep\n",
      "{17: 'kaushal', 21: 'chandu', 19: 'omkar'}\n"
     ]
    }
   ],
   "source": [
    "d1={15:'pradeep',17:'kaushal',21:'chandu',19:'omkar'}\n",
    "print(d1.pop(15))\n",
    "print(d1)"
   ]
  },
  {
   "cell_type": "code",
   "execution_count": 20,
   "id": "7d4111d8-99fb-47c6-afe6-5e2a7d6d39d3",
   "metadata": {},
   "outputs": [
    {
     "name": "stdout",
     "output_type": "stream",
     "text": [
      "{15: 'pradeep', 17: 'kaushal', 21: 'chandu', 19: 'omkar'}\n",
      "dict_values(['pradeep', 'kaushal', 'chandu', 'omkar'])\n",
      "dict_values(['pradeep', 'kaushal', 'chandu', 'omkar', 'pokale'])\n",
      "{15: 'pradeep', 17: 'kaushal', 21: 'chandu', 19: 'omkar', 333: 'pokale'}\n"
     ]
    }
   ],
   "source": [
    "d1={15:'pradeep',17:'kaushal',21:'chandu',19:'omkar'}\n",
    "print(d1)\n",
    "d2=d1.values()\n",
    "print(d2)\n",
    "d1[333]=\"pokale\"\n",
    "print(d2)\n",
    "print(d1)"
   ]
  },
  {
   "cell_type": "code",
   "execution_count": 24,
   "id": "5c63b9a9-8a12-4fa9-a636-bb86c3eaa6aa",
   "metadata": {},
   "outputs": [
    {
     "name": "stdout",
     "output_type": "stream",
     "text": [
      "True\n",
      "False\n",
      "False\n",
      "True\n"
     ]
    }
   ],
   "source": [
    "d1={15:'pradeep',17:'kaushal',21:'chandu',19:'omkar'}\n",
    "print(15 in d1)\n",
    "print(333 in d1)\n",
    "print(15 not in d1)\n",
    "print(333 not in d1)"
   ]
  },
  {
   "cell_type": "code",
   "execution_count": 26,
   "id": "ec178ace-f54f-4216-ae2e-04edbcfcc5f4",
   "metadata": {},
   "outputs": [
    {
     "name": "stdout",
     "output_type": "stream",
     "text": [
      "15 17 21 19\n"
     ]
    }
   ],
   "source": [
    "d1={15:'pradeep',17:'kaushal',21:'chandu',19:'omkar'}\n",
    "a,b,c,d=d1\n",
    "print(a,b,c,d)"
   ]
  },
  {
   "cell_type": "code",
   "execution_count": 27,
   "id": "450e46c1-6e4b-4c63-bc8f-b05a411ea3b3",
   "metadata": {},
   "outputs": [
    {
     "name": "stdout",
     "output_type": "stream",
     "text": [
      "<class 'dict'>\n",
      "{'a': 11, 'b': 22, 'c': 33}\n"
     ]
    }
   ],
   "source": [
    "def display(** d):\n",
    "    print(type(d))\n",
    "    print(d)\n",
    "display(a=11,b=22,c=33)"
   ]
  },
  {
   "cell_type": "code",
   "execution_count": 30,
   "id": "9b955ec6-c8a5-467f-945e-5b8ff641c605",
   "metadata": {},
   "outputs": [
    {
     "name": "stdout",
     "output_type": "stream",
     "text": [
      "<class 'dict'>\n",
      "{'a': 11, 'b': 22, 'c': 33}\n"
     ]
    }
   ],
   "source": [
    "def display(**d):\n",
    "    print(type(d))\n",
    "    print(d)\n",
    "display(a=11,b=22,c=33)"
   ]
  },
  {
   "cell_type": "code",
   "execution_count": 31,
   "id": "d2f09f85-fe45-4f49-a910-47b972a8906d",
   "metadata": {},
   "outputs": [
    {
     "name": "stdout",
     "output_type": "stream",
     "text": [
      "{1, 2, 3, 4, 5}\n"
     ]
    }
   ],
   "source": [
    "d={num for num in range(1,6)}\n",
    "print(d)"
   ]
  },
  {
   "cell_type": "code",
   "execution_count": 32,
   "id": "fc667117-1750-469b-b0c1-df9adce9d396",
   "metadata": {},
   "outputs": [
    {
     "name": "stdout",
     "output_type": "stream",
     "text": [
      "{1, 4, 9, 16, 25}\n"
     ]
    }
   ],
   "source": [
    "d={num*num for num in range(1,6)}\n",
    "print(d)"
   ]
  },
  {
   "cell_type": "code",
   "execution_count": 33,
   "id": "3cf4d066-1231-43f1-968f-35f411da5a6a",
   "metadata": {},
   "outputs": [
    {
     "name": "stdout",
     "output_type": "stream",
     "text": [
      "{1: 1, 2: 4, 3: 9, 4: 16, 5: 25}\n"
     ]
    }
   ],
   "source": [
    "d={num: num*num for num in range(1,6)}\n",
    "print(d)"
   ]
  },
  {
   "cell_type": "code",
   "execution_count": 38,
   "id": "b066e73a-021b-49fc-9cf9-ab8e8fe85d01",
   "metadata": {},
   "outputs": [
    {
     "name": "stdout",
     "output_type": "stream",
     "text": [
      "{15: 'pradeep', 33: 'kaushal', 21: 'chandu', 19: 'omkar'}\n",
      "[(15, 'pradeep'), (19, 'omkar'), (21, 'chandu'), (33, 'kaushal')]\n"
     ]
    }
   ],
   "source": [
    "d1={15:'pradeep',33:'kaushal',21:'chandu',19:'omkar'}\n",
    "print(d1)\n",
    "print(sorted(d1.items()))"
   ]
  },
  {
   "cell_type": "code",
   "execution_count": 45,
   "id": "a6529238-a8cf-4ee0-ae97-665458d36403",
   "metadata": {},
   "outputs": [
    {
     "name": "stdout",
     "output_type": "stream",
     "text": [
      "{15: 'pradeep', 19: 'omkar', 21: 'chandu', 45: 'kaushal'}\n",
      "{45: 'kaushal', 21: 'chandu', 19: 'omkar', 15: 'pradeep'}\n"
     ]
    }
   ],
   "source": [
    "d1={15:'pradeep',45:'kaushal',21:'chandu',19:'omkar'}\n",
    "\n",
    "d2=dict(sorted(d1.items()))\n",
    "print(d2)\n",
    "print(dict(sorted(d1.items(),reverse=True)))"
   ]
  },
  {
   "cell_type": "code",
   "execution_count": 50,
   "id": "2031a122-aff4-4779-9023-bfa246107cae",
   "metadata": {},
   "outputs": [
    {
     "name": "stdout",
     "output_type": "stream",
     "text": [
      "{15: 'pradeep', 45: 'kaushal', 21: 'chandu', 19: 'omkar'}\n",
      "{21: 'chandu', 45: 'kaushal', 19: 'omkar', 15: 'pradeep'}\n",
      "{15: 'pradeep', 19: 'omkar', 45: 'kaushal', 21: 'chandu'}\n"
     ]
    }
   ],
   "source": [
    "import operator\n",
    "d1={15:'pradeep',45:'kaushal',21:'chandu',19:'omkar'}\n",
    "print(d1)\n",
    "print(dict(sorted(d1.items(),key=operator.itemgetter(1))))\n",
    "print(dict(sorted(d1.items(),key=operator.itemgetter(1),reverse=True)))"
   ]
  },
  {
   "cell_type": "code",
   "execution_count": null,
   "id": "152ee15b-edac-4b12-8044-c35a78b620b8",
   "metadata": {},
   "outputs": [],
   "source": []
  }
 ],
 "metadata": {
  "kernelspec": {
   "display_name": "Python 3 (ipykernel)",
   "language": "python",
   "name": "python3"
  },
  "language_info": {
   "codemirror_mode": {
    "name": "ipython",
    "version": 3
   },
   "file_extension": ".py",
   "mimetype": "text/x-python",
   "name": "python",
   "nbconvert_exporter": "python",
   "pygments_lexer": "ipython3",
   "version": "3.12.4"
  }
 },
 "nbformat": 4,
 "nbformat_minor": 5
}
