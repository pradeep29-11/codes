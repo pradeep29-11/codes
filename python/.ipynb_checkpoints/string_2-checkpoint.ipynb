{
 "cells": [
  {
   "cell_type": "code",
   "execution_count": 1,
   "id": "2a9b4e14-ed1d-4b3b-95ae-21d99ad954ef",
   "metadata": {},
   "outputs": [
    {
     "name": "stdin",
     "output_type": "stream",
     "text": [
      "Enter the string :  pradeep jadhav\n"
     ]
    },
    {
     "name": "stdout",
     "output_type": "stream",
     "text": [
      "pradeep jadhav\n"
     ]
    }
   ],
   "source": [
    "str=input(\"Enter the string : \")\n",
    "print(str)"
   ]
  },
  {
   "cell_type": "code",
   "execution_count": 5,
   "id": "9c5d00db-32c3-4c0b-93e2-413040422c15",
   "metadata": {},
   "outputs": [
    {
     "name": "stdin",
     "output_type": "stream",
     "text": [
      "Enter the tagname :  p\n",
      "Enter the Text :  pa\n"
     ]
    },
    {
     "name": "stdout",
     "output_type": "stream",
     "text": [
      "<p> pa </p>\n",
      "<p> pa <p>\n"
     ]
    }
   ],
   "source": [
    "tagname=input(\"Enter the tagname : \")\n",
    "text=input(\"Enter the Text : \")\n",
    "s1=f'<{tagname}> {text} </{tagname}>'\n",
    "s2=\"<%s> %s <%s>\"%(tagname,text,tagname)\n",
    "print(s1)\n",
    "print(s2)"
   ]
  },
  {
   "cell_type": "code",
   "execution_count": 12,
   "id": "46ba1ed3-cd4e-436a-91b0-4321708c8c74",
   "metadata": {},
   "outputs": [
    {
     "name": "stdin",
     "output_type": "stream",
     "text": [
      "Enter the name :  pradeep\n",
      "Enter the city :  pune\n"
     ]
    },
    {
     "name": "stdout",
     "output_type": "stream",
     "text": [
      "my name is pradeep and city is pune\n",
      "my name is pune and city is pradeep\n",
      "my name is pradeep and city is pune\n"
     ]
    }
   ],
   "source": [
    "name=input(\"Enter the name : \")\n",
    "city=input(\"Enter the city : \")\n",
    "s1=\"my name is {} and city is {}\".format(name,city)\n",
    "s2=\"my name is {1} and city is {0}\".format(name,city)\n",
    "s3=\"my name is {0} and city is {1}\".format(name,city)\n",
    "s4=\"my name is {a} and city is {b}\".format(a=name,b=city)\n",
    "print(s1)\n",
    "print(s2)\n",
    "print(s3)"
   ]
  },
  {
   "cell_type": "code",
   "execution_count": 2,
   "id": "254dff98-edff-4a7f-ab3c-88eca1be2f04",
   "metadata": {},
   "outputs": [
    {
     "name": "stdin",
     "output_type": "stream",
     "text": [
      "Enter the number :  12\n"
     ]
    },
    {
     "name": "stdout",
     "output_type": "stream",
     "text": [
      "the integer number : 12\n",
      "the integer number : 00012\n"
     ]
    }
   ],
   "source": [
    "num=int(input(\"Enter the number : \"))\n",
    "s1=\"the integer number : {:d}\".format(num)\n",
    "s2=\"the integer number : {:05d}\".format(num)\n",
    "print(s1)\n",
    "print(s2)"
   ]
  },
  {
   "cell_type": "code",
   "execution_count": 21,
   "id": "31de7fc7-b773-4ec7-8cd4-27eafca9c4c5",
   "metadata": {},
   "outputs": [
    {
     "name": "stdin",
     "output_type": "stream",
     "text": [
      "Enter the float number :  12.34\n"
     ]
    },
    {
     "name": "stdout",
     "output_type": "stream",
     "text": [
      "The number is : 12.340000\n",
      "The number is : 12.34\n",
      "The number is :    12.34\n",
      "The number is : 00012.34\n"
     ]
    }
   ],
   "source": [
    "num=float(input(\"Enter the float number : \"))\n",
    "s1=\"The number is : {:f}\".format(num)\n",
    "s2=\"The number is : {:.2f}\".format(num)\n",
    "s3=\"The number is : {:8.2f}\".format(num)\n",
    "s4=\"The number is : {:>08.2f}\".format(num)\n",
    "print(s1)\n",
    "print(s2)\n",
    "print(s3)\n",
    "print(s4)"
   ]
  },
  {
   "cell_type": "code",
   "execution_count": 29,
   "id": "72d128b1-0b93-4f8f-82ac-86fb6bfcdb10",
   "metadata": {},
   "outputs": [
    {
     "name": "stdin",
     "output_type": "stream",
     "text": [
      "Enter the number :  1789\n"
     ]
    },
    {
     "name": "stdout",
     "output_type": "stream",
     "text": [
      "The binary number : 11011111101\n",
      "The Octal number : 3375\n",
      "The Hexadecimal number : 6fd\n",
      "The Hexadecimal number : 6FD\n"
     ]
    }
   ],
   "source": [
    "num=int(input(\"Enter the number : \"))\n",
    "print(\"The binary number : {:b}\".format(num))\n",
    "print(\"The Octal number : {:o}\".format(num))\n",
    "print(\"The Hexadecimal number : {:x}\".format(num))\n",
    "print(\"The Hexadecimal number : {:X}\".format(num))"
   ]
  },
  {
   "cell_type": "code",
   "execution_count": 36,
   "id": "cb6662f1-1aa1-475b-ae42-397ee08cea5e",
   "metadata": {},
   "outputs": [
    {
     "name": "stdin",
     "output_type": "stream",
     "text": [
      "Enter the integer  number :  12\n",
      "Enter the float number :  12.563\n"
     ]
    },
    {
     "name": "stdout",
     "output_type": "stream",
     "text": [
      "int number is : +12\n",
      "int number is : -12\n",
      "float number is : +12.563000\n",
      "float number is : -12.563000\n"
     ]
    }
   ],
   "source": [
    "num=int(input(\"Enter the integer  number : \"))\n",
    "f   =float(input(\"Enter the float number : \"))\n",
    "print(\"int number is : {:+d}\".format(num))\n",
    "print(\"int number is : {:+d}\".format(-num))\n",
    "print(\"float number is : {:+f}\".format(f))\n",
    "print(\"float number is : {:+f}\".format(-f))"
   ]
  },
  {
   "cell_type": "code",
   "execution_count": 49,
   "id": "0bbd5de5-aca3-408e-8323-687b56fbc34c",
   "metadata": {},
   "outputs": [
    {
     "name": "stdout",
     "output_type": "stream",
     "text": [
      "789\n",
      "  789\n",
      "789  \n",
      "00789\n",
      "78900\n",
      "+ 789\n",
      "07890\n",
      "789.340000\n",
      "789.34\n"
     ]
    }
   ],
   "source": [
    "print(\"{:d}\".format(789))\n",
    "print(\"{:>5d}\".format(789))\n",
    "print(\"{:<5d}\".format(789))\n",
    "print(\"{:>05d}\".format(789))\n",
    "print(\"{:<05d}\".format(789))\n",
    "print(\"{:=+5d}\".format(789))\n",
    "print(\"{:^05d}\".format(789))\n",
    "print(\"{:05f}\".format(789.34))\n",
    "print(\"{:05.2f}\".format(789.34))"
   ]
  },
  {
   "cell_type": "code",
   "execution_count": 43,
   "id": "0b11ac63-374d-403c-bcdc-654fd0474d0e",
   "metadata": {},
   "outputs": [
    {
     "name": "stdout",
     "output_type": "stream",
     "text": [
      "00789\n"
     ]
    }
   ],
   "source": [
    "print(\"{:=05d}\".format(789))"
   ]
  },
  {
   "cell_type": "code",
   "execution_count": 58,
   "id": "3c83b43e-c5f1-4721-979d-8ede2642a9aa",
   "metadata": {},
   "outputs": [
    {
     "name": "stdout",
     "output_type": "stream",
     "text": [
      "TC\n",
      "   TC\n",
      "TC   \n",
      " TC  \n"
     ]
    }
   ],
   "source": [
    "str=\"TCA\"\n",
    "print(\"{:.2}\".format(str))\n",
    "print(\"{:>5.2}\".format(str))\n",
    "print(\"{:<5.2}\".format(str))\n",
    "print(\"{:^5.2}\".format(str))"
   ]
  },
  {
   "cell_type": "code",
   "execution_count": null,
   "id": "117302e1-066a-4243-b0ca-1355780acf0a",
   "metadata": {},
   "outputs": [],
   "source": []
  },
  {
   "cell_type": "code",
   "execution_count": null,
   "id": "ecd39c77-4c57-42d7-9e61-e1b10411d074",
   "metadata": {},
   "outputs": [],
   "source": []
  },
  {
   "cell_type": "code",
   "execution_count": null,
   "id": "9612f799-7ed1-4f2a-9433-2e9b68525c01",
   "metadata": {},
   "outputs": [],
   "source": []
  },
  {
   "cell_type": "code",
   "execution_count": null,
   "id": "0318ac6f-a350-4158-9d1c-b762e4d350e6",
   "metadata": {},
   "outputs": [],
   "source": []
  },
  {
   "cell_type": "code",
   "execution_count": null,
   "id": "dec3b7fc-2d2f-4e38-95af-78a1c2877ab3",
   "metadata": {},
   "outputs": [],
   "source": []
  },
  {
   "cell_type": "code",
   "execution_count": null,
   "id": "36c44a09-196c-4026-bd3b-d6b9bd3d83d7",
   "metadata": {},
   "outputs": [],
   "source": []
  }
 ],
 "metadata": {
  "kernelspec": {
   "display_name": "Python 3 (ipykernel)",
   "language": "python",
   "name": "python3"
  },
  "language_info": {
   "codemirror_mode": {
    "name": "ipython",
    "version": 3
   },
   "file_extension": ".py",
   "mimetype": "text/x-python",
   "name": "python",
   "nbconvert_exporter": "python",
   "pygments_lexer": "ipython3",
   "version": "3.12.4"
  }
 },
 "nbformat": 4,
 "nbformat_minor": 5
}
