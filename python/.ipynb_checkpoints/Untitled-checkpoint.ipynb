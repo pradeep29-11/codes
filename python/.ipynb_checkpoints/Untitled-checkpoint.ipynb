{
 "cells": [
  {
   "cell_type": "code",
   "execution_count": 1,
   "id": "7eb6a3bf-a73f-4cc4-b45e-f1c57de723a7",
   "metadata": {},
   "outputs": [
    {
     "name": "stdout",
     "output_type": "stream",
     "text": [
      "pradeep jadhav\n"
     ]
    }
   ],
   "source": [
    "a=\"pradeep jadhav\"\n",
    "print(a)"
   ]
  },
  {
   "cell_type": "code",
   "execution_count": 11,
   "id": "1eb2ffaf-976f-40b7-babb-31c5ec9bab19",
   "metadata": {},
   "outputs": [
    {
     "name": "stdin",
     "output_type": "stream",
     "text": [
      "Enter the string :  pradeep jadhav\n"
     ]
    },
    {
     "name": "stdout",
     "output_type": "stream",
     "text": [
      "pradeep jadhav"
     ]
    }
   ],
   "source": [
    "s=input(\"Enter the string : \")\n",
    "for i in s:\n",
    "    print(i, end=\"\")"
   ]
  },
  {
   "cell_type": "code",
   "execution_count": 13,
   "id": "85b3fea1-afdc-44af-bc7a-878b77b184f7",
   "metadata": {},
   "outputs": [
    {
     "name": "stdout",
     "output_type": "stream",
     "text": [
      "pradeep j jadhav\n"
     ]
    }
   ],
   "source": [
    "a= \"pradeep j jadhav\"\n",
    "print(a[0::])"
   ]
  },
  {
   "cell_type": "code",
   "execution_count": 15,
   "id": "c7276598-b94c-4c2a-9426-93e2a7833124",
   "metadata": {},
   "outputs": [
    {
     "name": "stdout",
     "output_type": "stream",
     "text": [
      "vahdaj j peedarp\n"
     ]
    }
   ],
   "source": [
    "a= \"pradeep j jadhav\"\n",
    "print(a[-1::-1])"
   ]
  },
  {
   "cell_type": "code",
   "execution_count": 2,
   "id": "76cc6a21-5d44-4f0d-97e8-176b28f86454",
   "metadata": {},
   "outputs": [
    {
     "name": "stdout",
     "output_type": "stream",
     "text": [
      "aj j peedarp\n"
     ]
    }
   ],
   "source": [
    "a= \"pradeep j jadhav\"\n",
    "print(a[-5::-1])"
   ]
  },
  {
   "cell_type": "code",
   "execution_count": 4,
   "id": "5b27adcd-276f-47fb-9131-3836c24bfaaa",
   "metadata": {},
   "outputs": [
    {
     "name": "stdin",
     "output_type": "stream",
     "text": [
      "Enter the string :  ss\n"
     ]
    }
   ],
   "source": [
    "a=input(\"Enter the string : \")\n",
    "if len(a)<=2:\n",
    "    exit()\n",
    "else:\n",
    "    print(\"new string : \",a[:2:]+a[-2::])"
   ]
  },
  {
   "cell_type": "code",
   "execution_count": 6,
   "id": "7bf2fd85-9789-4770-a498-cce943f5fe0d",
   "metadata": {},
   "outputs": [
    {
     "name": "stdin",
     "output_type": "stream",
     "text": [
      "Enter the string :  ps\n"
     ]
    },
    {
     "name": "stdout",
     "output_type": "stream",
     "text": [
      "sp\n"
     ]
    }
   ],
   "source": [
    "a=input(\"Enter the string : \")\n",
    "print(a[-1::-1])"
   ]
  },
  {
   "cell_type": "code",
   "execution_count": 16,
   "id": "0d656c09-446a-407f-a820-ab539c753930",
   "metadata": {},
   "outputs": [
    {
     "name": "stdout",
     "output_type": "stream",
     "text": [
      "Programming\n",
      "thon\n"
     ]
    }
   ],
   "source": [
    "s = \"PythonProgramming\"\n",
    "print(s[-11::])\n",
    "print(s[-15:-11:1])"
   ]
  },
  {
   "cell_type": "code",
   "execution_count": 24,
   "id": "a91dcbaf-24ad-485c-8232-f199f8bcfaa8",
   "metadata": {},
   "outputs": [
    {
     "name": "stdin",
     "output_type": "stream",
     "text": [
      "Enter the strating index :  -5\n",
      "Enter the ending index :  -1\n"
     ]
    },
    {
     "name": "stdout",
     "output_type": "stream",
     "text": [
      "ienc\n"
     ]
    }
   ],
   "source": [
    "# s = \"DataScience\"\n",
    "start=int(input(\"Enter the strating index : \"))\n",
    "end=int(input(\"Enter the ending index : \"))\n",
    "print(s[start:end])"
   ]
  },
  {
   "cell_type": "code",
   "execution_count": 35,
   "id": "d4e4ffb5-f6cb-4e56-94e7-f5ff70dd6c25",
   "metadata": {},
   "outputs": [
    {
     "name": "stdin",
     "output_type": "stream",
     "text": [
      "Enter the number :  pradeep\n"
     ]
    },
    {
     "name": "stdout",
     "output_type": "stream",
     "text": [
      "The given string is not palindrome\n"
     ]
    }
   ],
   "source": [
    "a=input(\"Enter the number : \")\n",
    "if a==a[-1::-1]:\n",
    "    print(f\"The given string is palindrome \")\n",
    "else:\n",
    "    print(f\"The given string is not palindrome\")\n"
   ]
  },
  {
   "cell_type": "code",
   "execution_count": 42,
   "id": "5566eb80-3c82-4808-a5e0-102fe4ab29a5",
   "metadata": {},
   "outputs": [
    {
     "name": "stdin",
     "output_type": "stream",
     "text": [
      "Enter the string :  padeep\n"
     ]
    },
    {
     "name": "stdout",
     "output_type": "stream",
     "text": [
      "paxydeep\n"
     ]
    }
   ],
   "source": [
    "a=input(\"Enter the string : \")\n",
    "new_String=a[:2:]+\"xy\"+a[2::]\n",
    "print(new_String)"
   ]
  },
  {
   "cell_type": "code",
   "execution_count": 45,
   "id": "4ff5e410-ee55-4f46-90ce-eb8374f291bf",
   "metadata": {},
   "outputs": [
    {
     "name": "stdin",
     "output_type": "stream",
     "text": [
      "Enter the string :  asxz\n"
     ]
    },
    {
     "name": "stdout",
     "output_type": "stream",
     "text": [
      "asxz\n"
     ]
    }
   ],
   "source": [
    "s = input(\"Enter the string : \")\n",
    "\n",
    "# Print all possible slices of length greater than 3\n",
    "for i in range(len(s)):\n",
    "    for j in range(i + 1, len(s) + 1):\n",
    "        if len(s[i:j]) > 3:\n",
    "            print(s[i:j])\n",
    "\n",
    "# Output:\n",
    "# \"abcd\"\n"
   ]
  },
  {
   "cell_type": "code",
   "execution_count": 52,
   "id": "d61d248f-f788-4713-9b51-6443ad77195a",
   "metadata": {},
   "outputs": [
    {
     "name": "stdout",
     "output_type": "stream",
     "text": [
      "True\n",
      "True\n"
     ]
    }
   ],
   "source": [
    "# membership operator\n",
    "s=\"hello\"\n",
    "print(\"e\"in s)\n",
    "print(\"a\"not in s)"
   ]
  },
  {
   "cell_type": "code",
   "execution_count": 54,
   "id": "af2a1e26-fab4-4b22-85a1-c4c89c873b25",
   "metadata": {},
   "outputs": [
    {
     "name": "stdout",
     "output_type": "stream",
     "text": [
      "True\n",
      "True\n"
     ]
    }
   ],
   "source": [
    "str=\"The quick brown fox jumps over the lazy dog\"\n",
    "print(\"fox\"in str)\n",
    "print(\"cat\"not in str)"
   ]
  },
  {
   "cell_type": "code",
   "execution_count": 56,
   "id": "a8fd592a-fe7a-49ab-b221-df3d0dd8aed3",
   "metadata": {},
   "outputs": [
    {
     "name": "stdout",
     "output_type": "stream",
     "text": [
      "True\n",
      "False\n"
     ]
    }
   ],
   "source": [
    "a=[1, 2, 3, 4, 5, 6, 7]\n",
    "print(5 in a)\n",
    "print(5 not in a)"
   ]
  },
  {
   "cell_type": "code",
   "execution_count": 65,
   "id": "979afee2-33d9-4009-974b-525aba48e2b4",
   "metadata": {},
   "outputs": [
    {
     "name": "stdout",
     "output_type": "stream",
     "text": [
      "True\n",
      "False\n",
      "True\n"
     ]
    }
   ],
   "source": [
    "a=[1, 2, 3, 4, 5, 6, 7]\n",
    "print(1 and 2 in a)\n",
    "print(1 and 2 not in a)\n",
    "print(1 and 2 in a)"
   ]
  },
  {
   "cell_type": "code",
   "execution_count": 67,
   "id": "6a558e62-9c74-43de-a323-3c54177a924d",
   "metadata": {},
   "outputs": [
    {
     "name": "stdout",
     "output_type": "stream",
     "text": [
      "True\n",
      "False\n"
     ]
    }
   ],
   "source": [
    "str=[\"apple\", \"orange\", \"grape\", \"banana\"]\n",
    "print(\"apple\" and \"banana\" in str)\n",
    "print(\"apple\" and \"banana\" not in str)"
   ]
  },
  {
   "cell_type": "code",
   "execution_count": 68,
   "id": "02346376-acec-4898-ac56-284e12aa4b64",
   "metadata": {},
   "outputs": [
    {
     "name": "stdout",
     "output_type": "stream",
     "text": [
      "True\n"
     ]
    }
   ],
   "source": [
    "str={\"name\": \"John\", \"age\": 22, \"grade\": \"A\"}\n",
    "print(\"name\" in str)"
   ]
  },
  {
   "cell_type": "code",
   "execution_count": 69,
   "id": "4a5a64c4-4e12-40bc-af70-36cb2a7996bd",
   "metadata": {},
   "outputs": [
    {
     "name": "stdout",
     "output_type": "stream",
     "text": [
      "True\n"
     ]
    }
   ],
   "source": [
    "t = (10, 20, 30, 40)\n",
    "print(10 in t)"
   ]
  },
  {
   "cell_type": "code",
   "execution_count": 73,
   "id": "e15fb051-390a-4cbd-978d-f97cd4bb9b2f",
   "metadata": {},
   "outputs": [
    {
     "name": "stdout",
     "output_type": "stream",
     "text": [
      "False\n"
     ]
    }
   ],
   "source": [
    "a=[1]\n",
    "print(\"Empty\" in a)"
   ]
  },
  {
   "cell_type": "code",
   "execution_count": 79,
   "id": "a61c59ac-2c37-457a-8d40-93a1e251b366",
   "metadata": {},
   "outputs": [
    {
     "name": "stdout",
     "output_type": "stream",
     "text": [
      "0\n",
      "False\n",
      "True\n"
     ]
    }
   ],
   "source": [
    "s=\"alphabet\"\n",
    "c=s.count(\"abc\")\n",
    "print(c)\n",
    "print(\"abc\" in s)\n",
    "print(\"a\" and \"b\" in s)"
   ]
  },
  {
   "cell_type": "code",
   "execution_count": 80,
   "id": "3b516d5c-4b59-4afe-97c0-a4ed29ef7e0f",
   "metadata": {},
   "outputs": [
    {
     "name": "stdout",
     "output_type": "stream",
     "text": [
      "hello world\n"
     ]
    }
   ],
   "source": [
    "s = \"hello world!!!\"\n",
    "a=s.strip(\"!\")\n",
    "print(a)"
   ]
  },
  {
   "cell_type": "code",
   "execution_count": 88,
   "id": "bc06e7a6-954b-4b3b-80f0-5821b0c78139",
   "metadata": {},
   "outputs": [
    {
     "name": "stdout",
     "output_type": "stream",
     "text": [
      " python is fun\n"
     ]
    }
   ],
   "source": [
    "s = \" python is fun\"\n",
    "a=s.strip(\"f\")\n",
    "print(a)"
   ]
  },
  {
   "cell_type": "code",
   "execution_count": null,
   "id": "0c71f30b-c33e-484c-bfb1-3178d4083838",
   "metadata": {},
   "outputs": [],
   "source": []
  },
  {
   "cell_type": "code",
   "execution_count": null,
   "id": "906b0e65-b5da-44c0-8d3c-eb6fa4dcee64",
   "metadata": {},
   "outputs": [],
   "source": []
  }
 ],
 "metadata": {
  "kernelspec": {
   "display_name": "Python 3 (ipykernel)",
   "language": "python",
   "name": "python3"
  },
  "language_info": {
   "codemirror_mode": {
    "name": "ipython",
    "version": 3
   },
   "file_extension": ".py",
   "mimetype": "text/x-python",
   "name": "python",
   "nbconvert_exporter": "python",
   "pygments_lexer": "ipython3",
   "version": "3.12.4"
  }
 },
 "nbformat": 4,
 "nbformat_minor": 5
}
