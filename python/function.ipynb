{
 "cells": [
  {
   "cell_type": "code",
   "execution_count": 1,
   "id": "52eaef7b-beca-49d0-8819-9e47694028bd",
   "metadata": {},
   "outputs": [
    {
     "name": "stdout",
     "output_type": "stream",
     "text": [
      "Addition of two number :  30\n"
     ]
    }
   ],
   "source": [
    "def addition():\n",
    "    a=10\n",
    "    b=20\n",
    "    c=a+b\n",
    "    print(\"Addition of two number : \",c)\n",
    "addition()"
   ]
  },
  {
   "cell_type": "code",
   "execution_count": 2,
   "id": "dfbf8783-2738-4bf2-9872-c2419df1de02",
   "metadata": {},
   "outputs": [
    {
     "name": "stdout",
     "output_type": "stream",
     "text": [
      "Hello\n",
      "Hii\n",
      "Byee\n"
     ]
    }
   ],
   "source": [
    "def fun():\n",
    "    print(\"Hii\")\n",
    "print(\"Hello\")\n",
    "fun()\n",
    "print(\"Byee\")"
   ]
  },
  {
   "cell_type": "code",
   "execution_count": 3,
   "id": "6d2de208-f284-441e-b05e-31f65fd30a4f",
   "metadata": {},
   "outputs": [
    {
     "name": "stdin",
     "output_type": "stream",
     "text": [
      "Enter the name :  pradeep\n"
     ]
    },
    {
     "name": "stdout",
     "output_type": "stream",
     "text": [
      "My name is :  pradeep\n"
     ]
    }
   ],
   "source": [
    "def fun(name):\n",
    "    print(\"My name is : \",name)\n",
    "n=input(\"Enter the name : \")\n",
    "fun(n)"
   ]
  },
  {
   "cell_type": "code",
   "execution_count": 5,
   "id": "d8317620-a750-4d97-a0a7-1be37d4a1653",
   "metadata": {},
   "outputs": [
    {
     "name": "stdin",
     "output_type": "stream",
     "text": [
      "Enter the name :  pradeep\n",
      "Enter the city :  beedd\n"
     ]
    },
    {
     "name": "stdout",
     "output_type": "stream",
     "text": [
      "My name is  pradeep\n",
      "I am from :  beedd\n"
     ]
    }
   ],
   "source": [
    "def fun(name,city):\n",
    "    print(\"My name is \",name)\n",
    "    print(\"I am from : \",city)\n",
    "n=input(\"Enter the name : \")\n",
    "c=input(\"Enter the city : \")\n",
    "fun(n,c)"
   ]
  },
  {
   "cell_type": "code",
   "execution_count": 7,
   "id": "4988cd58-3e17-4c77-aabd-9936e45aa36d",
   "metadata": {},
   "outputs": [
    {
     "name": "stdout",
     "output_type": "stream",
     "text": [
      "Hello\n",
      "<class 'function'>\n",
      "2650403377280\n"
     ]
    }
   ],
   "source": [
    "def fun():\n",
    "    print(\"Hello\")\n",
    "fun()\n",
    "print(type(fun))\n",
    "print(id(fun))"
   ]
  },
  {
   "cell_type": "code",
   "execution_count": 8,
   "id": "cdb2b1a9-3701-4e85-8776-7aa3a64bbf5f",
   "metadata": {},
   "outputs": [
    {
     "name": "stdout",
     "output_type": "stream",
     "text": [
      "Hello\n",
      "<class 'function'>\n",
      "2650403383200\n"
     ]
    },
    {
     "ename": "NameError",
     "evalue": "name 'fun' is not defined",
     "output_type": "error",
     "traceback": [
      "\u001b[1;31m---------------------------------------------------------------------------\u001b[0m",
      "\u001b[1;31mNameError\u001b[0m                                 Traceback (most recent call last)",
      "Cell \u001b[1;32mIn[8], line 7\u001b[0m\n\u001b[0;32m      5\u001b[0m \u001b[38;5;28mprint\u001b[39m(\u001b[38;5;28mid\u001b[39m(fun))\n\u001b[0;32m      6\u001b[0m \u001b[38;5;28;01mdel\u001b[39;00m fun\n\u001b[1;32m----> 7\u001b[0m \u001b[43mfun\u001b[49m()\n",
      "\u001b[1;31mNameError\u001b[0m: name 'fun' is not defined"
     ]
    }
   ],
   "source": [
    "def fun():\n",
    "    print(\"Hello\")\n",
    "fun()\n",
    "print(type(fun))\n",
    "print(id(fun))\n",
    "del fun\n",
    "fun()"
   ]
  },
  {
   "cell_type": "code",
   "execution_count": 11,
   "id": "fc3759fc-2795-4f7b-8363-17dca0099277",
   "metadata": {},
   "outputs": [
    {
     "name": "stdout",
     "output_type": "stream",
     "text": [
      "Hello\n",
      "<class 'function'>\n",
      "2650409058368\n",
      "Hello\n"
     ]
    }
   ],
   "source": [
    "def fun():\n",
    "    print(\"Hello\")\n",
    "i=fun\n",
    "fun()\n",
    "print(type(fun))\n",
    "print(id(fun))\n",
    "del fun\n",
    "i()"
   ]
  },
  {
   "cell_type": "code",
   "execution_count": 13,
   "id": "545cfc76-8bf1-4bd4-9972-e585b8da9132",
   "metadata": {},
   "outputs": [
    {
     "name": "stdout",
     "output_type": "stream",
     "text": [
      "pradeep Beed\n"
     ]
    }
   ],
   "source": [
    "def fun(name,city):\n",
    "    print(name,city)\n",
    "fun(city='Beed',name='pradeep')"
   ]
  },
  {
   "cell_type": "code",
   "execution_count": 14,
   "id": "5f30c9c9-abbe-4218-9146-1a8060922ba8",
   "metadata": {},
   "outputs": [
    {
     "ename": "TypeError",
     "evalue": "fun() missing 1 required positional argument: 'name'",
     "output_type": "error",
     "traceback": [
      "\u001b[1;31m---------------------------------------------------------------------------\u001b[0m",
      "\u001b[1;31mTypeError\u001b[0m                                 Traceback (most recent call last)",
      "Cell \u001b[1;32mIn[14], line 3\u001b[0m\n\u001b[0;32m      1\u001b[0m \u001b[38;5;28;01mdef\u001b[39;00m \u001b[38;5;21mfun\u001b[39m(name,city):\n\u001b[0;32m      2\u001b[0m     \u001b[38;5;28mprint\u001b[39m(name,city)\n\u001b[1;32m----> 3\u001b[0m \u001b[43mfun\u001b[49m\u001b[43m(\u001b[49m\u001b[43mcity\u001b[49m\u001b[38;5;241;43m=\u001b[39;49m\u001b[38;5;124;43m'\u001b[39;49m\u001b[38;5;124;43mBeed\u001b[39;49m\u001b[38;5;124;43m'\u001b[39;49m\u001b[43m)\u001b[49m\n",
      "\u001b[1;31mTypeError\u001b[0m: fun() missing 1 required positional argument: 'name'"
     ]
    }
   ],
   "source": [
    "def fun(name,city):\n",
    "    print(name,city)\n",
    "fun(city='Beed')"
   ]
  },
  {
   "cell_type": "code",
   "execution_count": 16,
   "id": "d34bc6b4-49ae-4039-a5e7-1c29418d678e",
   "metadata": {},
   "outputs": [
    {
     "name": "stdout",
     "output_type": "stream",
     "text": [
      "kaushal Beed\n"
     ]
    }
   ],
   "source": [
    "def fun(name='kaushal',city='mumbai'):\n",
    "    print(name,city)\n",
    "fun(city='Beed')"
   ]
  },
  {
   "cell_type": "code",
   "execution_count": 17,
   "id": "13d1267d-19da-44a1-a491-1b6e9526823d",
   "metadata": {},
   "outputs": [
    {
     "name": "stdout",
     "output_type": "stream",
     "text": [
      "kaushal mumbai\n"
     ]
    }
   ],
   "source": [
    "def fun(name='kaushal',city='mumbai'):\n",
    "    print(name,city)\n",
    "fun()"
   ]
  },
  {
   "cell_type": "code",
   "execution_count": 18,
   "id": "7238da3d-ee98-407d-b4f3-34abe6e7c452",
   "metadata": {},
   "outputs": [
    {
     "name": "stdout",
     "output_type": "stream",
     "text": [
      "(11, 22)\n"
     ]
    }
   ],
   "source": [
    "def fun(*a):\n",
    "    print(a)\n",
    "fun(11,22)"
   ]
  },
  {
   "cell_type": "code",
   "execution_count": 26,
   "id": "980191dd-e959-481e-af39-0e66e315fcd4",
   "metadata": {},
   "outputs": [
    {
     "name": "stdout",
     "output_type": "stream",
     "text": [
      "(11, 22)\n",
      "<class 'tuple'>\n"
     ]
    }
   ],
   "source": [
    "def fun(*a):\n",
    "    print(a)\n",
    "    print(type(a))\n",
    "fun(11,22)"
   ]
  },
  {
   "cell_type": "code",
   "execution_count": 36,
   "id": "c1cfc35a-2e75-4db8-90de-0f1f0d43b130",
   "metadata": {},
   "outputs": [
    {
     "name": "stdout",
     "output_type": "stream",
     "text": [
      "{'a': 11, 'b': 'pradeep'}\n",
      "<class 'dict'>\n"
     ]
    }
   ],
   "source": [
    "def fun(**a):\n",
    "    print(a)\n",
    "    print(type(a))\n",
    "fun(a=11,b=\"pradeep\")"
   ]
  },
  {
   "cell_type": "code",
   "execution_count": 40,
   "id": "646e99bd-cdd4-4b63-bd55-b9f14c3ac4af",
   "metadata": {},
   "outputs": [
    {
     "name": "stdin",
     "output_type": "stream",
     "text": [
      "Enter the number :  5\n"
     ]
    },
    {
     "data": {
      "text/plain": [
       "120"
      ]
     },
     "execution_count": 40,
     "metadata": {},
     "output_type": "execute_result"
    }
   ],
   "source": [
    "def fun(n):\n",
    "    if(n==0 or n==1):\n",
    "        return 1\n",
    "    else:\n",
    "        return n*fun(n-1)\n",
    "num=int(input(\"Enter the number : \"))\n",
    "fun(num)"
   ]
  },
  {
   "cell_type": "code",
   "execution_count": 42,
   "id": "0f6a3813-b650-4863-9837-a6feb8519bb4",
   "metadata": {},
   "outputs": [
    {
     "name": "stdout",
     "output_type": "stream",
     "text": [
      "100\n",
      "10\n"
     ]
    }
   ],
   "source": [
    "a=10\n",
    "def fun():\n",
    "    a=100\n",
    "    print(a)\n",
    "fun()\n",
    "print(a)"
   ]
  },
  {
   "cell_type": "code",
   "execution_count": 43,
   "id": "de34d755-5ed4-4b27-b8a3-f848452431f3",
   "metadata": {},
   "outputs": [
    {
     "ename": "UnboundLocalError",
     "evalue": "cannot access local variable 'a' where it is not associated with a value",
     "output_type": "error",
     "traceback": [
      "\u001b[1;31m---------------------------------------------------------------------------\u001b[0m",
      "\u001b[1;31mUnboundLocalError\u001b[0m                         Traceback (most recent call last)",
      "Cell \u001b[1;32mIn[43], line 5\u001b[0m\n\u001b[0;32m      3\u001b[0m     \u001b[38;5;28mprint\u001b[39m(a)\n\u001b[0;32m      4\u001b[0m     a\u001b[38;5;241m=\u001b[39m\u001b[38;5;241m100\u001b[39m\n\u001b[1;32m----> 5\u001b[0m \u001b[43mfun\u001b[49m\u001b[43m(\u001b[49m\u001b[43m)\u001b[49m\n\u001b[0;32m      6\u001b[0m \u001b[38;5;28mprint\u001b[39m(a)\n",
      "Cell \u001b[1;32mIn[43], line 3\u001b[0m, in \u001b[0;36mfun\u001b[1;34m()\u001b[0m\n\u001b[0;32m      2\u001b[0m \u001b[38;5;28;01mdef\u001b[39;00m \u001b[38;5;21mfun\u001b[39m():\n\u001b[1;32m----> 3\u001b[0m     \u001b[38;5;28mprint\u001b[39m(\u001b[43ma\u001b[49m)\n\u001b[0;32m      4\u001b[0m     a\u001b[38;5;241m=\u001b[39m\u001b[38;5;241m100\u001b[39m\n",
      "\u001b[1;31mUnboundLocalError\u001b[0m: cannot access local variable 'a' where it is not associated with a value"
     ]
    }
   ],
   "source": [
    "a=10\n",
    "def fun():\n",
    "    print(a)\n",
    "    a=100\n",
    "fun()\n",
    "print(a)"
   ]
  },
  {
   "cell_type": "code",
   "execution_count": 44,
   "id": "e09c4c50-a812-480c-bb26-b5506fa0f7d2",
   "metadata": {},
   "outputs": [
    {
     "name": "stdout",
     "output_type": "stream",
     "text": [
      "10\n",
      "100\n"
     ]
    }
   ],
   "source": [
    "a=10\n",
    "def fun():\n",
    "    global a\n",
    "    print(a)\n",
    "    a=100\n",
    "fun()\n",
    "print(a)"
   ]
  },
  {
   "cell_type": "code",
   "execution_count": 50,
   "id": "5b2bacd3-af9f-49eb-851d-8b253db7b2e8",
   "metadata": {},
   "outputs": [
    {
     "name": "stdout",
     "output_type": "stream",
     "text": [
      "100\n",
      "10\n"
     ]
    }
   ],
   "source": [
    "a=10\n",
    "def fun():\n",
    "    a=100\n",
    "    print(a)\n",
    "fun()\n",
    "print(a)\n",
    "#print(globals())"
   ]
  },
  {
   "cell_type": "code",
   "execution_count": 55,
   "id": "492d69df-b164-4b29-8cb3-a52549c0feed",
   "metadata": {},
   "outputs": [
    {
     "name": "stdout",
     "output_type": "stream",
     "text": [
      "100\n",
      "10\n",
      "500\n"
     ]
    }
   ],
   "source": [
    "a=10\n",
    "def fun():\n",
    "    a=100\n",
    "    print(a)\n",
    "    print(globals()['a'])\n",
    "    globals()['a']=500\n",
    "fun()\n",
    "print(a)"
   ]
  },
  {
   "cell_type": "code",
   "execution_count": 56,
   "id": "04e4fe16-30ed-402b-b0ec-6e3cd3b203af",
   "metadata": {},
   "outputs": [
    {
     "name": "stdout",
     "output_type": "stream",
     "text": [
      "11\n",
      "22\n",
      "(33, 44)\n"
     ]
    }
   ],
   "source": [
    "def fun(a,b,*z):\n",
    "    print(a)\n",
    "    print(b)\n",
    "    print(z)\n",
    "fun(11,22,33,44)"
   ]
  },
  {
   "cell_type": "code",
   "execution_count": 57,
   "id": "ac4a63b3-04bc-4cf8-90f3-103dae62da06",
   "metadata": {},
   "outputs": [
    {
     "ename": "TypeError",
     "evalue": "fun() missing 2 required keyword-only arguments: 'a' and 'b'",
     "output_type": "error",
     "traceback": [
      "\u001b[1;31m---------------------------------------------------------------------------\u001b[0m",
      "\u001b[1;31mTypeError\u001b[0m                                 Traceback (most recent call last)",
      "Cell \u001b[1;32mIn[57], line 5\u001b[0m\n\u001b[0;32m      3\u001b[0m     \u001b[38;5;28mprint\u001b[39m(b)\n\u001b[0;32m      4\u001b[0m     \u001b[38;5;28mprint\u001b[39m(z)\n\u001b[1;32m----> 5\u001b[0m \u001b[43mfun\u001b[49m\u001b[43m(\u001b[49m\u001b[38;5;241;43m11\u001b[39;49m\u001b[43m,\u001b[49m\u001b[38;5;241;43m22\u001b[39;49m\u001b[43m,\u001b[49m\u001b[38;5;241;43m33\u001b[39;49m\u001b[43m,\u001b[49m\u001b[38;5;241;43m44\u001b[39;49m\u001b[43m)\u001b[49m\n",
      "\u001b[1;31mTypeError\u001b[0m: fun() missing 2 required keyword-only arguments: 'a' and 'b'"
     ]
    }
   ],
   "source": [
    "def fun(*z,a,b):\n",
    "    print(a)\n",
    "    print(b)\n",
    "    print(z)\n",
    "fun(11,22,33,44)"
   ]
  },
  {
   "cell_type": "code",
   "execution_count": 60,
   "id": "cf1f14f1-15e6-4776-8153-7f2b93db42ab",
   "metadata": {},
   "outputs": [
    {
     "name": "stdout",
     "output_type": "stream",
     "text": [
      "11\n",
      "22\n",
      "33\n",
      "<class 'tuple'>\n"
     ]
    }
   ],
   "source": [
    "def fun(*p):\n",
    "    for x in p:\n",
    "        print(x)\n",
    "    print(type(p))\n",
    "fun(11,22,33)"
   ]
  },
  {
   "cell_type": "code",
   "execution_count": 68,
   "id": "d73aad3c-ce77-4660-8f40-ac55ae168b23",
   "metadata": {},
   "outputs": [
    {
     "name": "stdout",
     "output_type": "stream",
     "text": [
      "10 20 (10, 20)\n"
     ]
    }
   ],
   "source": [
    "def fun(*z,a,b):\n",
    "    \n",
    "    print(a,b,z)\n",
    "fun(10,20,a=10,b=20)"
   ]
  },
  {
   "cell_type": "code",
   "execution_count": 72,
   "id": "878abb78-3355-421c-9795-6d8f118cc5b0",
   "metadata": {},
   "outputs": [
    {
     "name": "stdout",
     "output_type": "stream",
     "text": [
      "30\n"
     ]
    }
   ],
   "source": [
    "def fun(a,b):\n",
    "    return a+b\n",
    "z=fun(10,20)\n",
    "print(z)"
   ]
  },
  {
   "cell_type": "code",
   "execution_count": 74,
   "id": "8f27a628-4dfe-4c0a-943e-ecaa0bf306a2",
   "metadata": {},
   "outputs": [
    {
     "name": "stdout",
     "output_type": "stream",
     "text": [
      "30 -10\n"
     ]
    }
   ],
   "source": [
    "def fun(a,b):\n",
    "    c=a+b\n",
    "    d=a-b\n",
    "    return c,d\n",
    "y,z=fun(10,20)\n",
    "print(y,z)"
   ]
  },
  {
   "cell_type": "code",
   "execution_count": null,
   "id": "7e168fea-35cd-449f-9b0d-743f6d67ac69",
   "metadata": {},
   "outputs": [],
   "source": []
  }
 ],
 "metadata": {
  "kernelspec": {
   "display_name": "Python 3 (ipykernel)",
   "language": "python",
   "name": "python3"
  },
  "language_info": {
   "codemirror_mode": {
    "name": "ipython",
    "version": 3
   },
   "file_extension": ".py",
   "mimetype": "text/x-python",
   "name": "python",
   "nbconvert_exporter": "python",
   "pygments_lexer": "ipython3",
   "version": "3.12.4"
  }
 },
 "nbformat": 4,
 "nbformat_minor": 5
}
